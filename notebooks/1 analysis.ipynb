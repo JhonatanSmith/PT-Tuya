{
 "cells": [
  {
   "cell_type": "code",
   "execution_count": 231,
   "id": "192ada01",
   "metadata": {},
   "outputs": [
    {
     "name": "stdout",
     "output_type": "stream",
     "text": [
      "Requirement already satisfied: pandas in c:\\users\\jhonatansmithgarcía\\onedrive - celerik\\desktop\\repositorios\\celerik\\2025\\work\\julio\\pt tuya\\venv\\lib\\site-packages (2.3.1)\n",
      "Requirement already satisfied: numpy in c:\\users\\jhonatansmithgarcía\\onedrive - celerik\\desktop\\repositorios\\celerik\\2025\\work\\julio\\pt tuya\\venv\\lib\\site-packages (2.2.6)\n",
      "Requirement already satisfied: matplotlib in c:\\users\\jhonatansmithgarcía\\onedrive - celerik\\desktop\\repositorios\\celerik\\2025\\work\\julio\\pt tuya\\venv\\lib\\site-packages (3.10.3)\n",
      "Requirement already satisfied: seaborn in c:\\users\\jhonatansmithgarcía\\onedrive - celerik\\desktop\\repositorios\\celerik\\2025\\work\\julio\\pt tuya\\venv\\lib\\site-packages (0.13.2)\n",
      "Requirement already satisfied: scikit-learn in c:\\users\\jhonatansmithgarcía\\onedrive - celerik\\desktop\\repositorios\\celerik\\2025\\work\\julio\\pt tuya\\venv\\lib\\site-packages (1.7.1)\n",
      "Requirement already satisfied: openpyxl in c:\\users\\jhonatansmithgarcía\\onedrive - celerik\\desktop\\repositorios\\celerik\\2025\\work\\julio\\pt tuya\\venv\\lib\\site-packages (3.1.5)\n",
      "Requirement already satisfied: tzdata>=2022.7 in c:\\users\\jhonatansmithgarcía\\onedrive - celerik\\desktop\\repositorios\\celerik\\2025\\work\\julio\\pt tuya\\venv\\lib\\site-packages (from pandas) (2025.2)\n",
      "Requirement already satisfied: pytz>=2020.1 in c:\\users\\jhonatansmithgarcía\\onedrive - celerik\\desktop\\repositorios\\celerik\\2025\\work\\julio\\pt tuya\\venv\\lib\\site-packages (from pandas) (2025.2)\n",
      "Requirement already satisfied: python-dateutil>=2.8.2 in c:\\users\\jhonatansmithgarcía\\onedrive - celerik\\desktop\\repositorios\\celerik\\2025\\work\\julio\\pt tuya\\venv\\lib\\site-packages (from pandas) (2.9.0.post0)\n",
      "Requirement already satisfied: kiwisolver>=1.3.1 in c:\\users\\jhonatansmithgarcía\\onedrive - celerik\\desktop\\repositorios\\celerik\\2025\\work\\julio\\pt tuya\\venv\\lib\\site-packages (from matplotlib) (1.4.8)\n",
      "Requirement already satisfied: packaging>=20.0 in c:\\users\\jhonatansmithgarcía\\onedrive - celerik\\desktop\\repositorios\\celerik\\2025\\work\\julio\\pt tuya\\venv\\lib\\site-packages (from matplotlib) (25.0)\n",
      "Requirement already satisfied: pillow>=8 in c:\\users\\jhonatansmithgarcía\\onedrive - celerik\\desktop\\repositorios\\celerik\\2025\\work\\julio\\pt tuya\\venv\\lib\\site-packages (from matplotlib) (11.3.0)\n",
      "Requirement already satisfied: fonttools>=4.22.0 in c:\\users\\jhonatansmithgarcía\\onedrive - celerik\\desktop\\repositorios\\celerik\\2025\\work\\julio\\pt tuya\\venv\\lib\\site-packages (from matplotlib) (4.59.0)\n",
      "Requirement already satisfied: contourpy>=1.0.1 in c:\\users\\jhonatansmithgarcía\\onedrive - celerik\\desktop\\repositorios\\celerik\\2025\\work\\julio\\pt tuya\\venv\\lib\\site-packages (from matplotlib) (1.3.2)\n",
      "Requirement already satisfied: pyparsing>=2.3.1 in c:\\users\\jhonatansmithgarcía\\onedrive - celerik\\desktop\\repositorios\\celerik\\2025\\work\\julio\\pt tuya\\venv\\lib\\site-packages (from matplotlib) (3.2.3)\n",
      "Requirement already satisfied: cycler>=0.10 in c:\\users\\jhonatansmithgarcía\\onedrive - celerik\\desktop\\repositorios\\celerik\\2025\\work\\julio\\pt tuya\\venv\\lib\\site-packages (from matplotlib) (0.12.1)\n",
      "Requirement already satisfied: scipy>=1.8.0 in c:\\users\\jhonatansmithgarcía\\onedrive - celerik\\desktop\\repositorios\\celerik\\2025\\work\\julio\\pt tuya\\venv\\lib\\site-packages (from scikit-learn) (1.15.3)\n",
      "Requirement already satisfied: joblib>=1.2.0 in c:\\users\\jhonatansmithgarcía\\onedrive - celerik\\desktop\\repositorios\\celerik\\2025\\work\\julio\\pt tuya\\venv\\lib\\site-packages (from scikit-learn) (1.5.1)\n",
      "Requirement already satisfied: threadpoolctl>=3.1.0 in c:\\users\\jhonatansmithgarcía\\onedrive - celerik\\desktop\\repositorios\\celerik\\2025\\work\\julio\\pt tuya\\venv\\lib\\site-packages (from scikit-learn) (3.6.0)\n",
      "Requirement already satisfied: et-xmlfile in c:\\users\\jhonatansmithgarcía\\onedrive - celerik\\desktop\\repositorios\\celerik\\2025\\work\\julio\\pt tuya\\venv\\lib\\site-packages (from openpyxl) (2.0.0)\n",
      "Requirement already satisfied: six>=1.5 in c:\\users\\jhonatansmithgarcía\\onedrive - celerik\\desktop\\repositorios\\celerik\\2025\\work\\julio\\pt tuya\\venv\\lib\\site-packages (from python-dateutil>=2.8.2->pandas) (1.17.0)\n"
     ]
    },
    {
     "name": "stderr",
     "output_type": "stream",
     "text": [
      "\n",
      "[notice] A new release of pip is available: 23.0.1 -> 25.1.1\n",
      "[notice] To update, run: python.exe -m pip install --upgrade pip\n"
     ]
    }
   ],
   "source": [
    "# Run once to install necessary packages\n",
    "!pip install pandas numpy matplotlib seaborn scikit-learn openpyxl"
   ]
  },
  {
   "cell_type": "code",
   "execution_count": 232,
   "id": "849cfe19",
   "metadata": {},
   "outputs": [],
   "source": [
    "import pandas as pd\n",
    "import numpy as np\n"
   ]
  },
  {
   "cell_type": "markdown",
   "id": "21071a90",
   "metadata": {},
   "source": [
    "# Analisis  general\n",
    "\n",
    "Se procede a analizar una por una las tablas asociadas al Excel que se envia. Luego se procede a crear los respectivos DF asociados como CSV file en caso de requerer procesamiento y seprar tablas para su respectivo manejo en el proceso de data wrangling"
   ]
  },
  {
   "cell_type": "code",
   "execution_count": null,
   "id": "405757f9",
   "metadata": {},
   "outputs": [
    {
     "name": "stdout",
     "output_type": "stream",
     "text": [
      "(2500, 3)\n",
      "========================================================================================================================================================================================================\n",
      "Id_cliente          int64\n",
      "fecha_efectiva    float64\n",
      "Id_tx               int64\n",
      "dtype: object\n",
      "========================================================================================================================================================================================================\n"
     ]
    },
    {
     "data": {
      "application/vnd.microsoft.datawrangler.viewer.v0+json": {
       "columns": [
        {
         "name": "index",
         "rawType": "int64",
         "type": "integer"
        },
        {
         "name": "Id_cliente",
         "rawType": "int64",
         "type": "integer"
        },
        {
         "name": "fecha_efectiva",
         "rawType": "float64",
         "type": "float"
        },
        {
         "name": "Id_tx",
         "rawType": "int64",
         "type": "integer"
        }
       ],
       "ref": "5c92eef3-7bd6-4876-803d-0a71daa29729",
       "rows": [
        [
         "0",
         "136",
         "20210303.0",
         "6869"
        ],
        [
         "1",
         "116",
         "20201129.0",
         "4355"
        ],
        [
         "2",
         "119",
         "20200929.0",
         "5416"
        ]
       ],
       "shape": {
        "columns": 3,
        "rows": 3
       }
      },
      "text/html": [
       "<div>\n",
       "<style scoped>\n",
       "    .dataframe tbody tr th:only-of-type {\n",
       "        vertical-align: middle;\n",
       "    }\n",
       "\n",
       "    .dataframe tbody tr th {\n",
       "        vertical-align: top;\n",
       "    }\n",
       "\n",
       "    .dataframe thead th {\n",
       "        text-align: right;\n",
       "    }\n",
       "</style>\n",
       "<table border=\"1\" class=\"dataframe\">\n",
       "  <thead>\n",
       "    <tr style=\"text-align: right;\">\n",
       "      <th></th>\n",
       "      <th>Id_cliente</th>\n",
       "      <th>fecha_efectiva</th>\n",
       "      <th>Id_tx</th>\n",
       "    </tr>\n",
       "  </thead>\n",
       "  <tbody>\n",
       "    <tr>\n",
       "      <th>0</th>\n",
       "      <td>136</td>\n",
       "      <td>20210303.0</td>\n",
       "      <td>6869</td>\n",
       "    </tr>\n",
       "    <tr>\n",
       "      <th>1</th>\n",
       "      <td>116</td>\n",
       "      <td>20201129.0</td>\n",
       "      <td>4355</td>\n",
       "    </tr>\n",
       "    <tr>\n",
       "      <th>2</th>\n",
       "      <td>119</td>\n",
       "      <td>20200929.0</td>\n",
       "      <td>5416</td>\n",
       "    </tr>\n",
       "  </tbody>\n",
       "</table>\n",
       "</div>"
      ],
      "text/plain": [
       "   Id_cliente  fecha_efectiva  Id_tx\n",
       "0         136      20210303.0   6869\n",
       "1         116      20201129.0   4355\n",
       "2         119      20200929.0   5416"
      ]
     },
     "execution_count": 233,
     "metadata": {},
     "output_type": "execute_result"
    }
   ],
   "source": [
    "# Primer tablab\n",
    "detalle_cliente = pd.read_excel(\"../data/bronze/Prueba proceso de selección Analista de Datos - bases.xlsx\", \n",
    "                                sheet_name=\"Detalle_cliente\")\n",
    "print(detalle_cliente.shape)\n",
    "print(\"==\"*100)\n",
    "print(detalle_cliente.dtypes)\n",
    "print(\"==\"*100)\n",
    "detalle_cliente.head(3)"
   ]
  },
  {
   "cell_type": "code",
   "execution_count": null,
   "id": "d82d56cb",
   "metadata": {},
   "outputs": [
    {
     "name": "stdout",
     "output_type": "stream",
     "text": [
      "(2500, 3)\n",
      "========================================================================================================================================================================================================\n",
      "Id_tx     int64\n",
      "clase    object\n",
      "valor    object\n",
      "dtype: object\n",
      "========================================================================================================================================================================================================\n"
     ]
    },
    {
     "data": {
      "application/vnd.microsoft.datawrangler.viewer.v0+json": {
       "columns": [
        {
         "name": "index",
         "rawType": "int64",
         "type": "integer"
        },
        {
         "name": "Id_tx",
         "rawType": "int64",
         "type": "integer"
        },
        {
         "name": "clase",
         "rawType": "object",
         "type": "string"
        },
        {
         "name": "valor",
         "rawType": "object",
         "type": "unknown"
        }
       ],
       "ref": "1fe6e0ad-8e55-48f2-a9e0-96e00198bba2",
       "rows": [
        [
         "0",
         "6869",
         "COMPRA",
         "3495240"
        ],
        [
         "1",
         "4355",
         "COMPRA",
         "475800"
        ],
        [
         "2",
         "5416",
         "COMPRA",
         "115775"
        ]
       ],
       "shape": {
        "columns": 3,
        "rows": 3
       }
      },
      "text/html": [
       "<div>\n",
       "<style scoped>\n",
       "    .dataframe tbody tr th:only-of-type {\n",
       "        vertical-align: middle;\n",
       "    }\n",
       "\n",
       "    .dataframe tbody tr th {\n",
       "        vertical-align: top;\n",
       "    }\n",
       "\n",
       "    .dataframe thead th {\n",
       "        text-align: right;\n",
       "    }\n",
       "</style>\n",
       "<table border=\"1\" class=\"dataframe\">\n",
       "  <thead>\n",
       "    <tr style=\"text-align: right;\">\n",
       "      <th></th>\n",
       "      <th>Id_tx</th>\n",
       "      <th>clase</th>\n",
       "      <th>valor</th>\n",
       "    </tr>\n",
       "  </thead>\n",
       "  <tbody>\n",
       "    <tr>\n",
       "      <th>0</th>\n",
       "      <td>6869</td>\n",
       "      <td>COMPRA</td>\n",
       "      <td>3495240</td>\n",
       "    </tr>\n",
       "    <tr>\n",
       "      <th>1</th>\n",
       "      <td>4355</td>\n",
       "      <td>COMPRA</td>\n",
       "      <td>475800</td>\n",
       "    </tr>\n",
       "    <tr>\n",
       "      <th>2</th>\n",
       "      <td>5416</td>\n",
       "      <td>COMPRA</td>\n",
       "      <td>115775</td>\n",
       "    </tr>\n",
       "  </tbody>\n",
       "</table>\n",
       "</div>"
      ],
      "text/plain": [
       "   Id_tx   clase    valor\n",
       "0   6869  COMPRA  3495240\n",
       "1   4355  COMPRA   475800\n",
       "2   5416  COMPRA   115775"
      ]
     },
     "execution_count": 234,
     "metadata": {},
     "output_type": "execute_result"
    }
   ],
   "source": [
    "# Segunda tabla\n",
    "detalle_tx = pd.read_excel(\"../data/bronze/Prueba proceso de selección Analista de Datos - bases.xlsx\",\n",
    "                           sheet_name = \"Detalle_tx\" )\n",
    "print(detalle_tx.shape)\n",
    "print(\"==\"*100)\n",
    "print(detalle_tx.dtypes)\n",
    "print(\"==\"*100)\n",
    "detalle_tx.head(3)\n"
   ]
  },
  {
   "cell_type": "markdown",
   "id": "73a37a20",
   "metadata": {},
   "source": [
    "# Reto\n",
    "\n",
    "1) Encuentre un habito transacional de los cuentes o patrones de comportamiento. Haga un descriptivo\n",
    "2) Identifique grupos para cada estrategia, justifique una emtodologia que le permita usar algun criterio y mensione numero de clientes por grupo.\n",
    "\n",
    "**Consideraciones**\n",
    "\n",
    " a. La estrategia consiste en designar descuentos del 5,20,25% en su proxima compra a los clientes. *Priorizar desceutnos en clientes con menos uso de tarjetas (compras y avances)*\n",
    "\n",
    " b. Clientes afines avances, no compras. *Incentivar compras*\n",
    "\n",
    " c. Cliente mas afin: Clientes con mayor numero de compras, facturacion y utlizacion en pocos dias.\n",
    "\n",
    "\n",
    "\n",
    "# Solucion propuesta\n",
    "\n",
    "Se realizan 3 analisis importantes. \n",
    "\n",
    "1) Calidad de datos: Para identificar que hay, de que forma es, si hay errores.\n",
    "2) Analisis descrptivo: Como son los datos? Tienen algun patron visible a simple vista?\n",
    "3) Modelado: Tentativamente, problema no supervisado donde se podrian buscar cluster en los datos despues de las respectivas tecnicas de escalado y preprocesado para modelar.\n",
    "\n",
    "Todo este proceso es tangencial a la idea del negocio adyacente. Toda decision basado en los datos requerirá ser verificada desde la logica del neogcio para evitar absurdos.\n",
    "\n",
    "Se usaran notebooks para hacer analisis exploratorios a la informacion pero eventualmente, la modularizacion de un pipeline completo será requerida. So, let's go!"
   ]
  },
  {
   "cell_type": "markdown",
   "id": "aad0e986",
   "metadata": {},
   "source": [
    "# Detalles clientes\n"
   ]
  },
  {
   "cell_type": "code",
   "execution_count": 235,
   "id": "de96357f",
   "metadata": {},
   "outputs": [
    {
     "name": "stdout",
     "output_type": "stream",
     "text": [
      "<class 'pandas.core.frame.DataFrame'>\n",
      "RangeIndex: 2500 entries, 0 to 2499\n",
      "Data columns (total 3 columns):\n",
      " #   Column          Non-Null Count  Dtype  \n",
      "---  ------          --------------  -----  \n",
      " 0   Id_cliente      2500 non-null   int64  \n",
      " 1   fecha_efectiva  2488 non-null   float64\n",
      " 2   Id_tx           2500 non-null   int64  \n",
      "dtypes: float64(1), int64(2)\n",
      "memory usage: 58.7 KB\n"
     ]
    }
   ],
   "source": [
    "# Analisis primer tabla - detalle_cliente\n",
    "detalle_cliente.info() # Hay null values en la fecha"
   ]
  },
  {
   "cell_type": "code",
   "execution_count": 236,
   "id": "bc4f7746",
   "metadata": {},
   "outputs": [
    {
     "name": "stdout",
     "output_type": "stream",
     "text": [
      "TOTAL CLIENTES UNICOS: 70\n"
     ]
    },
    {
     "data": {
      "application/vnd.microsoft.datawrangler.viewer.v0+json": {
       "columns": [
        {
         "name": "index",
         "rawType": "int64",
         "type": "integer"
        },
        {
         "name": "Id_cliente",
         "rawType": "int64",
         "type": "integer"
        },
        {
         "name": "fecha_efectiva",
         "rawType": "float64",
         "type": "float"
        },
        {
         "name": "Id_tx",
         "rawType": "int64",
         "type": "integer"
        }
       ],
       "ref": "afa7abd7-3435-4918-86e6-c8317abcfa1b",
       "rows": [
        [
         "290",
         "113",
         null,
         "9858"
        ],
        [
         "562",
         "119",
         null,
         "5193"
        ],
        [
         "779",
         "112",
         null,
         "4647"
        ],
        [
         "987",
         "108",
         null,
         "4081"
        ],
        [
         "1179",
         "121",
         null,
         "5994"
        ],
        [
         "1371",
         "148",
         null,
         "9035"
        ],
        [
         "1579",
         "99",
         null,
         "5939"
        ],
        [
         "1779",
         "102",
         null,
         "9792"
        ],
        [
         "1946",
         "123",
         null,
         "6826"
        ],
        [
         "2035",
         "137",
         null,
         "8655"
        ],
        [
         "2227",
         "116",
         null,
         "7922"
        ],
        [
         "2387",
         "124",
         null,
         "6972"
        ]
       ],
       "shape": {
        "columns": 3,
        "rows": 12
       }
      },
      "text/html": [
       "<div>\n",
       "<style scoped>\n",
       "    .dataframe tbody tr th:only-of-type {\n",
       "        vertical-align: middle;\n",
       "    }\n",
       "\n",
       "    .dataframe tbody tr th {\n",
       "        vertical-align: top;\n",
       "    }\n",
       "\n",
       "    .dataframe thead th {\n",
       "        text-align: right;\n",
       "    }\n",
       "</style>\n",
       "<table border=\"1\" class=\"dataframe\">\n",
       "  <thead>\n",
       "    <tr style=\"text-align: right;\">\n",
       "      <th></th>\n",
       "      <th>Id_cliente</th>\n",
       "      <th>fecha_efectiva</th>\n",
       "      <th>Id_tx</th>\n",
       "    </tr>\n",
       "  </thead>\n",
       "  <tbody>\n",
       "    <tr>\n",
       "      <th>290</th>\n",
       "      <td>113</td>\n",
       "      <td>NaN</td>\n",
       "      <td>9858</td>\n",
       "    </tr>\n",
       "    <tr>\n",
       "      <th>562</th>\n",
       "      <td>119</td>\n",
       "      <td>NaN</td>\n",
       "      <td>5193</td>\n",
       "    </tr>\n",
       "    <tr>\n",
       "      <th>779</th>\n",
       "      <td>112</td>\n",
       "      <td>NaN</td>\n",
       "      <td>4647</td>\n",
       "    </tr>\n",
       "    <tr>\n",
       "      <th>987</th>\n",
       "      <td>108</td>\n",
       "      <td>NaN</td>\n",
       "      <td>4081</td>\n",
       "    </tr>\n",
       "    <tr>\n",
       "      <th>1179</th>\n",
       "      <td>121</td>\n",
       "      <td>NaN</td>\n",
       "      <td>5994</td>\n",
       "    </tr>\n",
       "    <tr>\n",
       "      <th>1371</th>\n",
       "      <td>148</td>\n",
       "      <td>NaN</td>\n",
       "      <td>9035</td>\n",
       "    </tr>\n",
       "    <tr>\n",
       "      <th>1579</th>\n",
       "      <td>99</td>\n",
       "      <td>NaN</td>\n",
       "      <td>5939</td>\n",
       "    </tr>\n",
       "    <tr>\n",
       "      <th>1779</th>\n",
       "      <td>102</td>\n",
       "      <td>NaN</td>\n",
       "      <td>9792</td>\n",
       "    </tr>\n",
       "    <tr>\n",
       "      <th>1946</th>\n",
       "      <td>123</td>\n",
       "      <td>NaN</td>\n",
       "      <td>6826</td>\n",
       "    </tr>\n",
       "    <tr>\n",
       "      <th>2035</th>\n",
       "      <td>137</td>\n",
       "      <td>NaN</td>\n",
       "      <td>8655</td>\n",
       "    </tr>\n",
       "    <tr>\n",
       "      <th>2227</th>\n",
       "      <td>116</td>\n",
       "      <td>NaN</td>\n",
       "      <td>7922</td>\n",
       "    </tr>\n",
       "    <tr>\n",
       "      <th>2387</th>\n",
       "      <td>124</td>\n",
       "      <td>NaN</td>\n",
       "      <td>6972</td>\n",
       "    </tr>\n",
       "  </tbody>\n",
       "</table>\n",
       "</div>"
      ],
      "text/plain": [
       "      Id_cliente  fecha_efectiva  Id_tx\n",
       "290          113             NaN   9858\n",
       "562          119             NaN   5193\n",
       "779          112             NaN   4647\n",
       "987          108             NaN   4081\n",
       "1179         121             NaN   5994\n",
       "1371         148             NaN   9035\n",
       "1579          99             NaN   5939\n",
       "1779         102             NaN   9792\n",
       "1946         123             NaN   6826\n",
       "2035         137             NaN   8655\n",
       "2227         116             NaN   7922\n",
       "2387         124             NaN   6972"
      ]
     },
     "execution_count": 236,
     "metadata": {},
     "output_type": "execute_result"
    }
   ],
   "source": [
    "print(\"TOTAL CLIENTES UNICOS:\",detalle_cliente[\"Id_cliente\"].nunique()) # Existen en total 70 clientes en el dataset\n",
    "detalle_cliente[detalle_cliente[\"fecha_efectiva\"].isna()]"
   ]
  },
  {
   "cell_type": "code",
   "execution_count": 237,
   "id": "5274ae9d",
   "metadata": {},
   "outputs": [
    {
     "ename": "ValueError",
     "evalue": "'indices' contains values less than allowed (-119 < -1)",
     "output_type": "error",
     "traceback": [
      "\u001b[1;31m---------------------------------------------------------------------------\u001b[0m",
      "\u001b[1;31mValueError\u001b[0m                                Traceback (most recent call last)",
      "Cell \u001b[1;32mIn[237], line 1\u001b[0m\n\u001b[1;32m----> 1\u001b[0m detalle_cliente[\u001b[38;5;124m\"\u001b[39m\u001b[38;5;124mfecha_efectiva\u001b[39m\u001b[38;5;124m\"\u001b[39m] \u001b[38;5;241m=\u001b[39m \u001b[43mpd\u001b[49m\u001b[38;5;241;43m.\u001b[39;49m\u001b[43mto_datetime\u001b[49m\u001b[43m(\u001b[49m\n\u001b[0;32m      2\u001b[0m \u001b[43m    \u001b[49m\u001b[43mdetalle_cliente\u001b[49m\u001b[43m[\u001b[49m\u001b[38;5;124;43m\"\u001b[39;49m\u001b[38;5;124;43mfecha_efectiva\u001b[39;49m\u001b[38;5;124;43m\"\u001b[39;49m\u001b[43m]\u001b[49m\u001b[38;5;241;43m.\u001b[39;49m\u001b[43mastype\u001b[49m\u001b[43m(\u001b[49m\u001b[38;5;124;43m\"\u001b[39;49m\u001b[38;5;124;43mInt64\u001b[39;49m\u001b[38;5;124;43m\"\u001b[39;49m\u001b[43m)\u001b[49m\u001b[43m,\u001b[49m\u001b[43m  \u001b[49m\u001b[38;5;66;43;03m# cambianbdo fecha a formato trabhajble\u001b[39;49;00m\n\u001b[0;32m      3\u001b[0m \u001b[43m    \u001b[49m\u001b[38;5;28;43mformat\u001b[39;49m\u001b[38;5;241;43m=\u001b[39;49m\u001b[38;5;124;43m\"\u001b[39;49m\u001b[38;5;124;43m%\u001b[39;49m\u001b[38;5;124;43mY\u001b[39;49m\u001b[38;5;124;43m%\u001b[39;49m\u001b[38;5;124;43mm\u001b[39;49m\u001b[38;5;132;43;01m%d\u001b[39;49;00m\u001b[38;5;124;43m\"\u001b[39;49m\u001b[43m,\u001b[49m\n\u001b[0;32m      4\u001b[0m \u001b[43m    \u001b[49m\u001b[43merrors\u001b[49m\u001b[38;5;241;43m=\u001b[39;49m\u001b[38;5;124;43m\"\u001b[39;49m\u001b[38;5;124;43mcoerce\u001b[39;49m\u001b[38;5;124;43m\"\u001b[39;49m\n\u001b[0;32m      5\u001b[0m \u001b[43m)\u001b[49m\n\u001b[0;32m      7\u001b[0m \u001b[38;5;28mprint\u001b[39m(detalle_cliente\u001b[38;5;241m.\u001b[39minfo())\n\u001b[0;32m      8\u001b[0m \u001b[38;5;28mprint\u001b[39m(detalle_cliente\u001b[38;5;241m.\u001b[39mhead(\u001b[38;5;241m3\u001b[39m))\n",
      "File \u001b[1;32mc:\\Users\\JhonatanSmithGarcía\\OneDrive - Celerik\\Desktop\\Repositorios\\Celerik\\2025\\Work\\Julio\\PT Tuya\\venv\\lib\\site-packages\\pandas\\core\\tools\\datetimes.py:1070\u001b[0m, in \u001b[0;36mto_datetime\u001b[1;34m(arg, errors, dayfirst, yearfirst, utc, format, exact, unit, infer_datetime_format, origin, cache)\u001b[0m\n\u001b[0;32m   1068\u001b[0m cache_array \u001b[38;5;241m=\u001b[39m _maybe_cache(arg, \u001b[38;5;28mformat\u001b[39m, cache, convert_listlike)\n\u001b[0;32m   1069\u001b[0m \u001b[38;5;28;01mif\u001b[39;00m \u001b[38;5;129;01mnot\u001b[39;00m cache_array\u001b[38;5;241m.\u001b[39mempty:\n\u001b[1;32m-> 1070\u001b[0m     result \u001b[38;5;241m=\u001b[39m \u001b[43marg\u001b[49m\u001b[38;5;241;43m.\u001b[39;49m\u001b[43mmap\u001b[49m\u001b[43m(\u001b[49m\u001b[43mcache_array\u001b[49m\u001b[43m)\u001b[49m\n\u001b[0;32m   1071\u001b[0m \u001b[38;5;28;01melse\u001b[39;00m:\n\u001b[0;32m   1072\u001b[0m     values \u001b[38;5;241m=\u001b[39m convert_listlike(arg\u001b[38;5;241m.\u001b[39m_values, \u001b[38;5;28mformat\u001b[39m)\n",
      "File \u001b[1;32mc:\\Users\\JhonatanSmithGarcía\\OneDrive - Celerik\\Desktop\\Repositorios\\Celerik\\2025\\Work\\Julio\\PT Tuya\\venv\\lib\\site-packages\\pandas\\core\\series.py:4711\u001b[0m, in \u001b[0;36mSeries.map\u001b[1;34m(self, arg, na_action)\u001b[0m\n\u001b[0;32m   4631\u001b[0m \u001b[38;5;28;01mdef\u001b[39;00m\u001b[38;5;250m \u001b[39m\u001b[38;5;21mmap\u001b[39m(\n\u001b[0;32m   4632\u001b[0m     \u001b[38;5;28mself\u001b[39m,\n\u001b[0;32m   4633\u001b[0m     arg: Callable \u001b[38;5;241m|\u001b[39m Mapping \u001b[38;5;241m|\u001b[39m Series,\n\u001b[0;32m   4634\u001b[0m     na_action: Literal[\u001b[38;5;124m\"\u001b[39m\u001b[38;5;124mignore\u001b[39m\u001b[38;5;124m\"\u001b[39m] \u001b[38;5;241m|\u001b[39m \u001b[38;5;28;01mNone\u001b[39;00m \u001b[38;5;241m=\u001b[39m \u001b[38;5;28;01mNone\u001b[39;00m,\n\u001b[0;32m   4635\u001b[0m ) \u001b[38;5;241m-\u001b[39m\u001b[38;5;241m>\u001b[39m Series:\n\u001b[0;32m   4636\u001b[0m \u001b[38;5;250m    \u001b[39m\u001b[38;5;124;03m\"\"\"\u001b[39;00m\n\u001b[0;32m   4637\u001b[0m \u001b[38;5;124;03m    Map values of Series according to an input mapping or function.\u001b[39;00m\n\u001b[0;32m   4638\u001b[0m \n\u001b[1;32m   (...)\u001b[0m\n\u001b[0;32m   4709\u001b[0m \u001b[38;5;124;03m    dtype: object\u001b[39;00m\n\u001b[0;32m   4710\u001b[0m \u001b[38;5;124;03m    \"\"\"\u001b[39;00m\n\u001b[1;32m-> 4711\u001b[0m     new_values \u001b[38;5;241m=\u001b[39m \u001b[38;5;28;43mself\u001b[39;49m\u001b[38;5;241;43m.\u001b[39;49m\u001b[43m_map_values\u001b[49m\u001b[43m(\u001b[49m\u001b[43marg\u001b[49m\u001b[43m,\u001b[49m\u001b[43m \u001b[49m\u001b[43mna_action\u001b[49m\u001b[38;5;241;43m=\u001b[39;49m\u001b[43mna_action\u001b[49m\u001b[43m)\u001b[49m\n\u001b[0;32m   4712\u001b[0m     \u001b[38;5;28;01mreturn\u001b[39;00m \u001b[38;5;28mself\u001b[39m\u001b[38;5;241m.\u001b[39m_constructor(new_values, index\u001b[38;5;241m=\u001b[39m\u001b[38;5;28mself\u001b[39m\u001b[38;5;241m.\u001b[39mindex, copy\u001b[38;5;241m=\u001b[39m\u001b[38;5;28;01mFalse\u001b[39;00m)\u001b[38;5;241m.\u001b[39m__finalize__(\n\u001b[0;32m   4713\u001b[0m         \u001b[38;5;28mself\u001b[39m, method\u001b[38;5;241m=\u001b[39m\u001b[38;5;124m\"\u001b[39m\u001b[38;5;124mmap\u001b[39m\u001b[38;5;124m\"\u001b[39m\n\u001b[0;32m   4714\u001b[0m     )\n",
      "File \u001b[1;32mc:\\Users\\JhonatanSmithGarcía\\OneDrive - Celerik\\Desktop\\Repositorios\\Celerik\\2025\\Work\\Julio\\PT Tuya\\venv\\lib\\site-packages\\pandas\\core\\base.py:923\u001b[0m, in \u001b[0;36mIndexOpsMixin._map_values\u001b[1;34m(self, mapper, na_action, convert)\u001b[0m\n\u001b[0;32m    920\u001b[0m arr \u001b[38;5;241m=\u001b[39m \u001b[38;5;28mself\u001b[39m\u001b[38;5;241m.\u001b[39m_values\n\u001b[0;32m    922\u001b[0m \u001b[38;5;28;01mif\u001b[39;00m \u001b[38;5;28misinstance\u001b[39m(arr, ExtensionArray):\n\u001b[1;32m--> 923\u001b[0m     \u001b[38;5;28;01mreturn\u001b[39;00m \u001b[43marr\u001b[49m\u001b[38;5;241;43m.\u001b[39;49m\u001b[43mmap\u001b[49m\u001b[43m(\u001b[49m\u001b[43mmapper\u001b[49m\u001b[43m,\u001b[49m\u001b[43m \u001b[49m\u001b[43mna_action\u001b[49m\u001b[38;5;241;43m=\u001b[39;49m\u001b[43mna_action\u001b[49m\u001b[43m)\u001b[49m\n\u001b[0;32m    925\u001b[0m \u001b[38;5;28;01mreturn\u001b[39;00m algorithms\u001b[38;5;241m.\u001b[39mmap_array(arr, mapper, na_action\u001b[38;5;241m=\u001b[39mna_action, convert\u001b[38;5;241m=\u001b[39mconvert)\n",
      "File \u001b[1;32mc:\\Users\\JhonatanSmithGarcía\\OneDrive - Celerik\\Desktop\\Repositorios\\Celerik\\2025\\Work\\Julio\\PT Tuya\\venv\\lib\\site-packages\\pandas\\core\\arrays\\masked.py:1357\u001b[0m, in \u001b[0;36mBaseMaskedArray.map\u001b[1;34m(self, mapper, na_action)\u001b[0m\n\u001b[0;32m   1356\u001b[0m \u001b[38;5;28;01mdef\u001b[39;00m\u001b[38;5;250m \u001b[39m\u001b[38;5;21mmap\u001b[39m(\u001b[38;5;28mself\u001b[39m, mapper, na_action\u001b[38;5;241m=\u001b[39m\u001b[38;5;28;01mNone\u001b[39;00m):\n\u001b[1;32m-> 1357\u001b[0m     \u001b[38;5;28;01mreturn\u001b[39;00m \u001b[43mmap_array\u001b[49m\u001b[43m(\u001b[49m\u001b[38;5;28;43mself\u001b[39;49m\u001b[38;5;241;43m.\u001b[39;49m\u001b[43mto_numpy\u001b[49m\u001b[43m(\u001b[49m\u001b[43m)\u001b[49m\u001b[43m,\u001b[49m\u001b[43m \u001b[49m\u001b[43mmapper\u001b[49m\u001b[43m,\u001b[49m\u001b[43m \u001b[49m\u001b[43mna_action\u001b[49m\u001b[38;5;241;43m=\u001b[39;49m\u001b[43mna_action\u001b[49m\u001b[43m)\u001b[49m\n",
      "File \u001b[1;32mc:\\Users\\JhonatanSmithGarcía\\OneDrive - Celerik\\Desktop\\Repositorios\\Celerik\\2025\\Work\\Julio\\PT Tuya\\venv\\lib\\site-packages\\pandas\\core\\algorithms.py:1733\u001b[0m, in \u001b[0;36mmap_array\u001b[1;34m(arr, mapper, na_action, convert)\u001b[0m\n\u001b[0;32m   1730\u001b[0m     \u001b[38;5;66;03m# Since values were input this means we came from either\u001b[39;00m\n\u001b[0;32m   1731\u001b[0m     \u001b[38;5;66;03m# a dict or a series and mapper should be an index\u001b[39;00m\n\u001b[0;32m   1732\u001b[0m     indexer \u001b[38;5;241m=\u001b[39m mapper\u001b[38;5;241m.\u001b[39mindex\u001b[38;5;241m.\u001b[39mget_indexer(arr)\n\u001b[1;32m-> 1733\u001b[0m     new_values \u001b[38;5;241m=\u001b[39m \u001b[43mtake_nd\u001b[49m\u001b[43m(\u001b[49m\u001b[43mmapper\u001b[49m\u001b[38;5;241;43m.\u001b[39;49m\u001b[43m_values\u001b[49m\u001b[43m,\u001b[49m\u001b[43m \u001b[49m\u001b[43mindexer\u001b[49m\u001b[43m)\u001b[49m\n\u001b[0;32m   1735\u001b[0m     \u001b[38;5;28;01mreturn\u001b[39;00m new_values\n\u001b[0;32m   1737\u001b[0m \u001b[38;5;28;01mif\u001b[39;00m \u001b[38;5;129;01mnot\u001b[39;00m \u001b[38;5;28mlen\u001b[39m(arr):\n",
      "File \u001b[1;32mc:\\Users\\JhonatanSmithGarcía\\OneDrive - Celerik\\Desktop\\Repositorios\\Celerik\\2025\\Work\\Julio\\PT Tuya\\venv\\lib\\site-packages\\pandas\\core\\array_algos\\take.py:110\u001b[0m, in \u001b[0;36mtake_nd\u001b[1;34m(arr, indexer, axis, fill_value, allow_fill)\u001b[0m\n\u001b[0;32m    107\u001b[0m     \u001b[38;5;28;01mif\u001b[39;00m \u001b[38;5;129;01mnot\u001b[39;00m is_1d_only_ea_dtype(arr\u001b[38;5;241m.\u001b[39mdtype):\n\u001b[0;32m    108\u001b[0m         \u001b[38;5;66;03m# i.e. DatetimeArray, TimedeltaArray\u001b[39;00m\n\u001b[0;32m    109\u001b[0m         arr \u001b[38;5;241m=\u001b[39m cast(\u001b[38;5;124m\"\u001b[39m\u001b[38;5;124mNDArrayBackedExtensionArray\u001b[39m\u001b[38;5;124m\"\u001b[39m, arr)\n\u001b[1;32m--> 110\u001b[0m         \u001b[38;5;28;01mreturn\u001b[39;00m \u001b[43marr\u001b[49m\u001b[38;5;241;43m.\u001b[39;49m\u001b[43mtake\u001b[49m\u001b[43m(\u001b[49m\n\u001b[0;32m    111\u001b[0m \u001b[43m            \u001b[49m\u001b[43mindexer\u001b[49m\u001b[43m,\u001b[49m\u001b[43m \u001b[49m\u001b[43mfill_value\u001b[49m\u001b[38;5;241;43m=\u001b[39;49m\u001b[43mfill_value\u001b[49m\u001b[43m,\u001b[49m\u001b[43m \u001b[49m\u001b[43mallow_fill\u001b[49m\u001b[38;5;241;43m=\u001b[39;49m\u001b[43mallow_fill\u001b[49m\u001b[43m,\u001b[49m\u001b[43m \u001b[49m\u001b[43maxis\u001b[49m\u001b[38;5;241;43m=\u001b[39;49m\u001b[43maxis\u001b[49m\n\u001b[0;32m    112\u001b[0m \u001b[43m        \u001b[49m\u001b[43m)\u001b[49m\n\u001b[0;32m    114\u001b[0m     \u001b[38;5;28;01mreturn\u001b[39;00m arr\u001b[38;5;241m.\u001b[39mtake(indexer, fill_value\u001b[38;5;241m=\u001b[39mfill_value, allow_fill\u001b[38;5;241m=\u001b[39mallow_fill)\n\u001b[0;32m    116\u001b[0m arr \u001b[38;5;241m=\u001b[39m np\u001b[38;5;241m.\u001b[39masarray(arr)\n",
      "File \u001b[1;32mc:\\Users\\JhonatanSmithGarcía\\OneDrive - Celerik\\Desktop\\Repositorios\\Celerik\\2025\\Work\\Julio\\PT Tuya\\venv\\lib\\site-packages\\pandas\\core\\arrays\\_mixins.py:168\u001b[0m, in \u001b[0;36mNDArrayBackedExtensionArray.take\u001b[1;34m(self, indices, allow_fill, fill_value, axis)\u001b[0m\n\u001b[0;32m    165\u001b[0m \u001b[38;5;28;01mif\u001b[39;00m allow_fill:\n\u001b[0;32m    166\u001b[0m     fill_value \u001b[38;5;241m=\u001b[39m \u001b[38;5;28mself\u001b[39m\u001b[38;5;241m.\u001b[39m_validate_scalar(fill_value)\n\u001b[1;32m--> 168\u001b[0m new_data \u001b[38;5;241m=\u001b[39m \u001b[43mtake\u001b[49m\u001b[43m(\u001b[49m\n\u001b[0;32m    169\u001b[0m \u001b[43m    \u001b[49m\u001b[38;5;28;43mself\u001b[39;49m\u001b[38;5;241;43m.\u001b[39;49m\u001b[43m_ndarray\u001b[49m\u001b[43m,\u001b[49m\n\u001b[0;32m    170\u001b[0m \u001b[43m    \u001b[49m\u001b[43mindices\u001b[49m\u001b[43m,\u001b[49m\n\u001b[0;32m    171\u001b[0m \u001b[43m    \u001b[49m\u001b[43mallow_fill\u001b[49m\u001b[38;5;241;43m=\u001b[39;49m\u001b[43mallow_fill\u001b[49m\u001b[43m,\u001b[49m\n\u001b[0;32m    172\u001b[0m \u001b[43m    \u001b[49m\u001b[43mfill_value\u001b[49m\u001b[38;5;241;43m=\u001b[39;49m\u001b[43mfill_value\u001b[49m\u001b[43m,\u001b[49m\n\u001b[0;32m    173\u001b[0m \u001b[43m    \u001b[49m\u001b[43maxis\u001b[49m\u001b[38;5;241;43m=\u001b[39;49m\u001b[43maxis\u001b[49m\u001b[43m,\u001b[49m\n\u001b[0;32m    174\u001b[0m \u001b[43m\u001b[49m\u001b[43m)\u001b[49m\n\u001b[0;32m    175\u001b[0m \u001b[38;5;28;01mreturn\u001b[39;00m \u001b[38;5;28mself\u001b[39m\u001b[38;5;241m.\u001b[39m_from_backing_data(new_data)\n",
      "File \u001b[1;32mc:\\Users\\JhonatanSmithGarcía\\OneDrive - Celerik\\Desktop\\Repositorios\\Celerik\\2025\\Work\\Julio\\PT Tuya\\venv\\lib\\site-packages\\pandas\\core\\algorithms.py:1233\u001b[0m, in \u001b[0;36mtake\u001b[1;34m(arr, indices, axis, allow_fill, fill_value)\u001b[0m\n\u001b[0;32m   1229\u001b[0m indices \u001b[38;5;241m=\u001b[39m ensure_platform_int(indices)\n\u001b[0;32m   1231\u001b[0m \u001b[38;5;28;01mif\u001b[39;00m allow_fill:\n\u001b[0;32m   1232\u001b[0m     \u001b[38;5;66;03m# Pandas style, -1 means NA\u001b[39;00m\n\u001b[1;32m-> 1233\u001b[0m     \u001b[43mvalidate_indices\u001b[49m\u001b[43m(\u001b[49m\u001b[43mindices\u001b[49m\u001b[43m,\u001b[49m\u001b[43m \u001b[49m\u001b[43marr\u001b[49m\u001b[38;5;241;43m.\u001b[39;49m\u001b[43mshape\u001b[49m\u001b[43m[\u001b[49m\u001b[43maxis\u001b[49m\u001b[43m]\u001b[49m\u001b[43m)\u001b[49m\n\u001b[0;32m   1234\u001b[0m     result \u001b[38;5;241m=\u001b[39m take_nd(\n\u001b[0;32m   1235\u001b[0m         arr, indices, axis\u001b[38;5;241m=\u001b[39maxis, allow_fill\u001b[38;5;241m=\u001b[39m\u001b[38;5;28;01mTrue\u001b[39;00m, fill_value\u001b[38;5;241m=\u001b[39mfill_value\n\u001b[0;32m   1236\u001b[0m     )\n\u001b[0;32m   1237\u001b[0m \u001b[38;5;28;01melse\u001b[39;00m:\n\u001b[0;32m   1238\u001b[0m     \u001b[38;5;66;03m# NumPy style\u001b[39;00m\n",
      "File \u001b[1;32mc:\\Users\\JhonatanSmithGarcía\\OneDrive - Celerik\\Desktop\\Repositorios\\Celerik\\2025\\Work\\Julio\\PT Tuya\\venv\\lib\\site-packages\\pandas\\core\\indexers\\utils.py:228\u001b[0m, in \u001b[0;36mvalidate_indices\u001b[1;34m(indices, n)\u001b[0m\n\u001b[0;32m    226\u001b[0m \u001b[38;5;28;01mif\u001b[39;00m min_idx \u001b[38;5;241m<\u001b[39m \u001b[38;5;241m-\u001b[39m\u001b[38;5;241m1\u001b[39m:\n\u001b[0;32m    227\u001b[0m     msg \u001b[38;5;241m=\u001b[39m \u001b[38;5;124mf\u001b[39m\u001b[38;5;124m\"\u001b[39m\u001b[38;5;124m'\u001b[39m\u001b[38;5;124mindices\u001b[39m\u001b[38;5;124m'\u001b[39m\u001b[38;5;124m contains values less than allowed (\u001b[39m\u001b[38;5;132;01m{\u001b[39;00mmin_idx\u001b[38;5;132;01m}\u001b[39;00m\u001b[38;5;124m < -1)\u001b[39m\u001b[38;5;124m\"\u001b[39m\n\u001b[1;32m--> 228\u001b[0m     \u001b[38;5;28;01mraise\u001b[39;00m \u001b[38;5;167;01mValueError\u001b[39;00m(msg)\n\u001b[0;32m    230\u001b[0m max_idx \u001b[38;5;241m=\u001b[39m indices\u001b[38;5;241m.\u001b[39mmax()\n\u001b[0;32m    231\u001b[0m \u001b[38;5;28;01mif\u001b[39;00m max_idx \u001b[38;5;241m>\u001b[39m\u001b[38;5;241m=\u001b[39m n:\n",
      "\u001b[1;31mValueError\u001b[0m: 'indices' contains values less than allowed (-119 < -1)"
     ]
    }
   ],
   "source": [
    "detalle_cliente[\"fecha_efectiva\"] = pd.to_datetime(\n",
    "    detalle_cliente[\"fecha_efectiva\"].astype(\"Int64\"),  # cambianbdo fecha a formato trabhajble\n",
    "    format=\"%Y%m%d\",\n",
    "    errors=\"coerce\"\n",
    ")\n",
    "\n",
    "print(detalle_cliente.info())\n",
    "print(detalle_cliente.head(3))"
   ]
  },
  {
   "cell_type": "markdown",
   "id": "34faf6ab",
   "metadata": {},
   "source": [
    "``Inisghts``\n",
    " 1) Existen 12 registros sin el campo fecha efectiva. Se propone borrarlos puesto que esto no es recuperable para ningun otro registro (no hay forma de mapear esto con la otra tabla auxiliar)\n",
    " 2) Esta tabla tiene informacion relevante del precio y fecha para cada cliente pero mas importante **tiene un indicador para ser unida con la segunda tabla**\n",
    " 3) La columna de fecha ha de ser investigada a profundidad para tratarla correctamente"
   ]
  },
  {
   "cell_type": "markdown",
   "id": "7505b469",
   "metadata": {},
   "source": [
    "# Detalle tx"
   ]
  },
  {
   "cell_type": "code",
   "execution_count": null,
   "id": "e9499b02",
   "metadata": {},
   "outputs": [
    {
     "name": "stdout",
     "output_type": "stream",
     "text": [
      "<class 'pandas.core.frame.DataFrame'>\n",
      "RangeIndex: 2500 entries, 0 to 2499\n",
      "Data columns (total 3 columns):\n",
      " #   Column  Non-Null Count  Dtype \n",
      "---  ------  --------------  ----- \n",
      " 0   Id_tx   2500 non-null   int64 \n",
      " 1   clase   2495 non-null   object\n",
      " 2   valor   2476 non-null   object\n",
      "dtypes: int64(1), object(2)\n",
      "memory usage: 58.7+ KB\n",
      "None\n",
      "========================================================================================================================================================================================================\n",
      "clase\n",
      "COMPRA    1931\n",
      "AVANCE     558\n",
      "SEGURO       6\n",
      "Name: count, dtype: int64\n",
      "========================================================================================================================================================================================================\n",
      "count       2476\n",
      "unique      1720\n",
      "top       800000\n",
      "freq         136\n",
      "Name: valor, dtype: int64\n"
     ]
    }
   ],
   "source": [
    "print(detalle_tx.info()) # Clase y valor algunos poseen valores nulos\n",
    "print(\"==\"*100)\n",
    "print(detalle_tx[\"clase\"].value_counts()) # Ver niveles de la variable categorica. Clases desbalanceadas. \n",
    "print(\"==\"*100)\n",
    "print(detalle_tx[\"valor\"].describe()) # Ver estadisticas de la variable numerica"
   ]
  },
  {
   "cell_type": "code",
   "execution_count": null,
   "id": "36adba39",
   "metadata": {},
   "outputs": [
    {
     "data": {
      "application/vnd.microsoft.datawrangler.viewer.v0+json": {
       "columns": [
        {
         "name": "index",
         "rawType": "int64",
         "type": "integer"
        },
        {
         "name": "Id_tx",
         "rawType": "int64",
         "type": "integer"
        },
        {
         "name": "clase",
         "rawType": "object",
         "type": "unknown"
        },
        {
         "name": "valor",
         "rawType": "object",
         "type": "unknown"
        }
       ],
       "ref": "38ab16d0-24c4-4c10-9177-3c334ae3c6e5",
       "rows": [
        [
         "281",
         "6890",
         "COMPRA",
         null
        ],
        [
         "635",
         "4855",
         "COMPRA",
         null
        ],
        [
         "943",
         "2847",
         "COMPRA",
         null
        ],
        [
         "1089",
         "2773",
         "COMPRA",
         null
        ],
        [
         "1093",
         "3334",
         "COMPRA",
         null
        ],
        [
         "1179",
         "5994",
         "COMPRA",
         null
        ],
        [
         "1233",
         "7801",
         "COMPRA",
         null
        ],
        [
         "1253",
         "8438",
         "COMPRA",
         null
        ],
        [
         "1386",
         "4065",
         "COMPRA",
         null
        ],
        [
         "1455",
         "6358",
         "AVANCE",
         null
        ],
        [
         "1602",
         "9664",
         "COMPRA",
         null
        ],
        [
         "1647",
         "8470",
         "AVANCE",
         null
        ],
        [
         "1774",
         "6879",
         "COMPRA",
         null
        ],
        [
         "1778",
         "5576",
         "AVANCE",
         null
        ],
        [
         "1856",
         "5183",
         null,
         "800000"
        ],
        [
         "1866",
         "8331",
         "COMPRA",
         null
        ],
        [
         "1901",
         "3168",
         null,
         "34200"
        ],
        [
         "1977",
         "5563",
         "COMPRA",
         null
        ],
        [
         "1996",
         "5646",
         "COMPRA",
         null
        ],
        [
         "2020",
         "6389",
         "COMPRA",
         null
        ],
        [
         "2113",
         "3171",
         "COMPRA",
         null
        ],
        [
         "2134",
         "5806",
         "COMPRA",
         null
        ],
        [
         "2199",
         "6741",
         "COMPRA",
         null
        ],
        [
         "2239",
         "3850",
         null,
         "160380"
        ],
        [
         "2271",
         "6556",
         "AVANCE",
         null
        ],
        [
         "2356",
         "4719",
         null,
         "400000"
        ],
        [
         "2455",
         "4949",
         "COMPRA",
         null
        ],
        [
         "2488",
         "5745",
         "COMPRA",
         null
        ],
        [
         "2494",
         "6132",
         null,
         "161568"
        ]
       ],
       "shape": {
        "columns": 3,
        "rows": 29
       }
      },
      "text/html": [
       "<div>\n",
       "<style scoped>\n",
       "    .dataframe tbody tr th:only-of-type {\n",
       "        vertical-align: middle;\n",
       "    }\n",
       "\n",
       "    .dataframe tbody tr th {\n",
       "        vertical-align: top;\n",
       "    }\n",
       "\n",
       "    .dataframe thead th {\n",
       "        text-align: right;\n",
       "    }\n",
       "</style>\n",
       "<table border=\"1\" class=\"dataframe\">\n",
       "  <thead>\n",
       "    <tr style=\"text-align: right;\">\n",
       "      <th></th>\n",
       "      <th>Id_tx</th>\n",
       "      <th>clase</th>\n",
       "      <th>valor</th>\n",
       "    </tr>\n",
       "  </thead>\n",
       "  <tbody>\n",
       "    <tr>\n",
       "      <th>281</th>\n",
       "      <td>6890</td>\n",
       "      <td>COMPRA</td>\n",
       "      <td>NaN</td>\n",
       "    </tr>\n",
       "    <tr>\n",
       "      <th>635</th>\n",
       "      <td>4855</td>\n",
       "      <td>COMPRA</td>\n",
       "      <td>NaN</td>\n",
       "    </tr>\n",
       "    <tr>\n",
       "      <th>943</th>\n",
       "      <td>2847</td>\n",
       "      <td>COMPRA</td>\n",
       "      <td>NaN</td>\n",
       "    </tr>\n",
       "    <tr>\n",
       "      <th>1089</th>\n",
       "      <td>2773</td>\n",
       "      <td>COMPRA</td>\n",
       "      <td>NaN</td>\n",
       "    </tr>\n",
       "    <tr>\n",
       "      <th>1093</th>\n",
       "      <td>3334</td>\n",
       "      <td>COMPRA</td>\n",
       "      <td>NaN</td>\n",
       "    </tr>\n",
       "    <tr>\n",
       "      <th>1179</th>\n",
       "      <td>5994</td>\n",
       "      <td>COMPRA</td>\n",
       "      <td>NaN</td>\n",
       "    </tr>\n",
       "    <tr>\n",
       "      <th>1233</th>\n",
       "      <td>7801</td>\n",
       "      <td>COMPRA</td>\n",
       "      <td>NaN</td>\n",
       "    </tr>\n",
       "    <tr>\n",
       "      <th>1253</th>\n",
       "      <td>8438</td>\n",
       "      <td>COMPRA</td>\n",
       "      <td>NaN</td>\n",
       "    </tr>\n",
       "    <tr>\n",
       "      <th>1386</th>\n",
       "      <td>4065</td>\n",
       "      <td>COMPRA</td>\n",
       "      <td>NaN</td>\n",
       "    </tr>\n",
       "    <tr>\n",
       "      <th>1455</th>\n",
       "      <td>6358</td>\n",
       "      <td>AVANCE</td>\n",
       "      <td>NaN</td>\n",
       "    </tr>\n",
       "    <tr>\n",
       "      <th>1602</th>\n",
       "      <td>9664</td>\n",
       "      <td>COMPRA</td>\n",
       "      <td>NaN</td>\n",
       "    </tr>\n",
       "    <tr>\n",
       "      <th>1647</th>\n",
       "      <td>8470</td>\n",
       "      <td>AVANCE</td>\n",
       "      <td>NaN</td>\n",
       "    </tr>\n",
       "    <tr>\n",
       "      <th>1774</th>\n",
       "      <td>6879</td>\n",
       "      <td>COMPRA</td>\n",
       "      <td>NaN</td>\n",
       "    </tr>\n",
       "    <tr>\n",
       "      <th>1778</th>\n",
       "      <td>5576</td>\n",
       "      <td>AVANCE</td>\n",
       "      <td>NaN</td>\n",
       "    </tr>\n",
       "    <tr>\n",
       "      <th>1856</th>\n",
       "      <td>5183</td>\n",
       "      <td>NaN</td>\n",
       "      <td>800000</td>\n",
       "    </tr>\n",
       "    <tr>\n",
       "      <th>1866</th>\n",
       "      <td>8331</td>\n",
       "      <td>COMPRA</td>\n",
       "      <td>NaN</td>\n",
       "    </tr>\n",
       "    <tr>\n",
       "      <th>1901</th>\n",
       "      <td>3168</td>\n",
       "      <td>NaN</td>\n",
       "      <td>34200</td>\n",
       "    </tr>\n",
       "    <tr>\n",
       "      <th>1977</th>\n",
       "      <td>5563</td>\n",
       "      <td>COMPRA</td>\n",
       "      <td>NaN</td>\n",
       "    </tr>\n",
       "    <tr>\n",
       "      <th>1996</th>\n",
       "      <td>5646</td>\n",
       "      <td>COMPRA</td>\n",
       "      <td>NaN</td>\n",
       "    </tr>\n",
       "    <tr>\n",
       "      <th>2020</th>\n",
       "      <td>6389</td>\n",
       "      <td>COMPRA</td>\n",
       "      <td>NaN</td>\n",
       "    </tr>\n",
       "    <tr>\n",
       "      <th>2113</th>\n",
       "      <td>3171</td>\n",
       "      <td>COMPRA</td>\n",
       "      <td>NaN</td>\n",
       "    </tr>\n",
       "    <tr>\n",
       "      <th>2134</th>\n",
       "      <td>5806</td>\n",
       "      <td>COMPRA</td>\n",
       "      <td>NaN</td>\n",
       "    </tr>\n",
       "    <tr>\n",
       "      <th>2199</th>\n",
       "      <td>6741</td>\n",
       "      <td>COMPRA</td>\n",
       "      <td>NaN</td>\n",
       "    </tr>\n",
       "    <tr>\n",
       "      <th>2239</th>\n",
       "      <td>3850</td>\n",
       "      <td>NaN</td>\n",
       "      <td>160380</td>\n",
       "    </tr>\n",
       "    <tr>\n",
       "      <th>2271</th>\n",
       "      <td>6556</td>\n",
       "      <td>AVANCE</td>\n",
       "      <td>NaN</td>\n",
       "    </tr>\n",
       "    <tr>\n",
       "      <th>2356</th>\n",
       "      <td>4719</td>\n",
       "      <td>NaN</td>\n",
       "      <td>400000</td>\n",
       "    </tr>\n",
       "    <tr>\n",
       "      <th>2455</th>\n",
       "      <td>4949</td>\n",
       "      <td>COMPRA</td>\n",
       "      <td>NaN</td>\n",
       "    </tr>\n",
       "    <tr>\n",
       "      <th>2488</th>\n",
       "      <td>5745</td>\n",
       "      <td>COMPRA</td>\n",
       "      <td>NaN</td>\n",
       "    </tr>\n",
       "    <tr>\n",
       "      <th>2494</th>\n",
       "      <td>6132</td>\n",
       "      <td>NaN</td>\n",
       "      <td>161568</td>\n",
       "    </tr>\n",
       "  </tbody>\n",
       "</table>\n",
       "</div>"
      ],
      "text/plain": [
       "      Id_tx   clase   valor\n",
       "281    6890  COMPRA     NaN\n",
       "635    4855  COMPRA     NaN\n",
       "943    2847  COMPRA     NaN\n",
       "1089   2773  COMPRA     NaN\n",
       "1093   3334  COMPRA     NaN\n",
       "1179   5994  COMPRA     NaN\n",
       "1233   7801  COMPRA     NaN\n",
       "1253   8438  COMPRA     NaN\n",
       "1386   4065  COMPRA     NaN\n",
       "1455   6358  AVANCE     NaN\n",
       "1602   9664  COMPRA     NaN\n",
       "1647   8470  AVANCE     NaN\n",
       "1774   6879  COMPRA     NaN\n",
       "1778   5576  AVANCE     NaN\n",
       "1856   5183     NaN  800000\n",
       "1866   8331  COMPRA     NaN\n",
       "1901   3168     NaN   34200\n",
       "1977   5563  COMPRA     NaN\n",
       "1996   5646  COMPRA     NaN\n",
       "2020   6389  COMPRA     NaN\n",
       "2113   3171  COMPRA     NaN\n",
       "2134   5806  COMPRA     NaN\n",
       "2199   6741  COMPRA     NaN\n",
       "2239   3850     NaN  160380\n",
       "2271   6556  AVANCE     NaN\n",
       "2356   4719     NaN  400000\n",
       "2455   4949  COMPRA     NaN\n",
       "2488   5745  COMPRA     NaN\n",
       "2494   6132     NaN  161568"
      ]
     },
     "execution_count": 40,
     "metadata": {},
     "output_type": "execute_result"
    }
   ],
   "source": [
    "detalle_tx[detalle_tx[\"clase\"].isna() | detalle_tx[\"valor\"].isna()] # Ver registros con valores nulos"
   ]
  },
  {
   "cell_type": "code",
   "execution_count": null,
   "id": "89ca845e",
   "metadata": {},
   "outputs": [
    {
     "ename": "ValueError",
     "evalue": "could not convert string to float: '41f30'",
     "output_type": "error",
     "traceback": [
      "\u001b[1;31m---------------------------------------------------------------------------\u001b[0m",
      "\u001b[1;31mValueError\u001b[0m                                Traceback (most recent call last)",
      "Cell \u001b[1;32mIn[41], line 2\u001b[0m\n\u001b[0;32m      1\u001b[0m \u001b[38;5;66;03m# Inputando correctamente valor\u001b[39;00m\n\u001b[1;32m----> 2\u001b[0m detalle_tx[\u001b[38;5;124m\"\u001b[39m\u001b[38;5;124mvalor\u001b[39m\u001b[38;5;124m\"\u001b[39m] \u001b[38;5;241m=\u001b[39m \u001b[43mdetalle_tx\u001b[49m\u001b[38;5;241;43m.\u001b[39;49m\u001b[43mvalor\u001b[49m\u001b[38;5;241;43m.\u001b[39;49m\u001b[43mastype\u001b[49m\u001b[43m(\u001b[49m\u001b[38;5;28;43mfloat\u001b[39;49m\u001b[43m)\u001b[49m \u001b[38;5;66;03m# Cambiando tipo de dato a float\u001b[39;00m\n",
      "File \u001b[1;32mc:\\Users\\JhonatanSmithGarcía\\OneDrive - Celerik\\Desktop\\Repositorios\\Celerik\\2025\\Work\\Julio\\PT Tuya\\venv\\lib\\site-packages\\pandas\\core\\generic.py:6662\u001b[0m, in \u001b[0;36mNDFrame.astype\u001b[1;34m(self, dtype, copy, errors)\u001b[0m\n\u001b[0;32m   6656\u001b[0m     results \u001b[38;5;241m=\u001b[39m [\n\u001b[0;32m   6657\u001b[0m         ser\u001b[38;5;241m.\u001b[39mastype(dtype, copy\u001b[38;5;241m=\u001b[39mcopy, errors\u001b[38;5;241m=\u001b[39merrors) \u001b[38;5;28;01mfor\u001b[39;00m _, ser \u001b[38;5;129;01min\u001b[39;00m \u001b[38;5;28mself\u001b[39m\u001b[38;5;241m.\u001b[39mitems()\n\u001b[0;32m   6658\u001b[0m     ]\n\u001b[0;32m   6660\u001b[0m \u001b[38;5;28;01melse\u001b[39;00m:\n\u001b[0;32m   6661\u001b[0m     \u001b[38;5;66;03m# else, only a single dtype is given\u001b[39;00m\n\u001b[1;32m-> 6662\u001b[0m     new_data \u001b[38;5;241m=\u001b[39m \u001b[38;5;28;43mself\u001b[39;49m\u001b[38;5;241;43m.\u001b[39;49m\u001b[43m_mgr\u001b[49m\u001b[38;5;241;43m.\u001b[39;49m\u001b[43mastype\u001b[49m\u001b[43m(\u001b[49m\u001b[43mdtype\u001b[49m\u001b[38;5;241;43m=\u001b[39;49m\u001b[43mdtype\u001b[49m\u001b[43m,\u001b[49m\u001b[43m \u001b[49m\u001b[43mcopy\u001b[49m\u001b[38;5;241;43m=\u001b[39;49m\u001b[43mcopy\u001b[49m\u001b[43m,\u001b[49m\u001b[43m \u001b[49m\u001b[43merrors\u001b[49m\u001b[38;5;241;43m=\u001b[39;49m\u001b[43merrors\u001b[49m\u001b[43m)\u001b[49m\n\u001b[0;32m   6663\u001b[0m     res \u001b[38;5;241m=\u001b[39m \u001b[38;5;28mself\u001b[39m\u001b[38;5;241m.\u001b[39m_constructor_from_mgr(new_data, axes\u001b[38;5;241m=\u001b[39mnew_data\u001b[38;5;241m.\u001b[39maxes)\n\u001b[0;32m   6664\u001b[0m     \u001b[38;5;28;01mreturn\u001b[39;00m res\u001b[38;5;241m.\u001b[39m__finalize__(\u001b[38;5;28mself\u001b[39m, method\u001b[38;5;241m=\u001b[39m\u001b[38;5;124m\"\u001b[39m\u001b[38;5;124mastype\u001b[39m\u001b[38;5;124m\"\u001b[39m)\n",
      "File \u001b[1;32mc:\\Users\\JhonatanSmithGarcía\\OneDrive - Celerik\\Desktop\\Repositorios\\Celerik\\2025\\Work\\Julio\\PT Tuya\\venv\\lib\\site-packages\\pandas\\core\\internals\\managers.py:430\u001b[0m, in \u001b[0;36mBaseBlockManager.astype\u001b[1;34m(self, dtype, copy, errors)\u001b[0m\n\u001b[0;32m    427\u001b[0m \u001b[38;5;28;01melif\u001b[39;00m using_copy_on_write():\n\u001b[0;32m    428\u001b[0m     copy \u001b[38;5;241m=\u001b[39m \u001b[38;5;28;01mFalse\u001b[39;00m\n\u001b[1;32m--> 430\u001b[0m \u001b[38;5;28;01mreturn\u001b[39;00m \u001b[38;5;28;43mself\u001b[39;49m\u001b[38;5;241;43m.\u001b[39;49m\u001b[43mapply\u001b[49m\u001b[43m(\u001b[49m\n\u001b[0;32m    431\u001b[0m \u001b[43m    \u001b[49m\u001b[38;5;124;43m\"\u001b[39;49m\u001b[38;5;124;43mastype\u001b[39;49m\u001b[38;5;124;43m\"\u001b[39;49m\u001b[43m,\u001b[49m\n\u001b[0;32m    432\u001b[0m \u001b[43m    \u001b[49m\u001b[43mdtype\u001b[49m\u001b[38;5;241;43m=\u001b[39;49m\u001b[43mdtype\u001b[49m\u001b[43m,\u001b[49m\n\u001b[0;32m    433\u001b[0m \u001b[43m    \u001b[49m\u001b[43mcopy\u001b[49m\u001b[38;5;241;43m=\u001b[39;49m\u001b[43mcopy\u001b[49m\u001b[43m,\u001b[49m\n\u001b[0;32m    434\u001b[0m \u001b[43m    \u001b[49m\u001b[43merrors\u001b[49m\u001b[38;5;241;43m=\u001b[39;49m\u001b[43merrors\u001b[49m\u001b[43m,\u001b[49m\n\u001b[0;32m    435\u001b[0m \u001b[43m    \u001b[49m\u001b[43musing_cow\u001b[49m\u001b[38;5;241;43m=\u001b[39;49m\u001b[43musing_copy_on_write\u001b[49m\u001b[43m(\u001b[49m\u001b[43m)\u001b[49m\u001b[43m,\u001b[49m\n\u001b[0;32m    436\u001b[0m \u001b[43m\u001b[49m\u001b[43m)\u001b[49m\n",
      "File \u001b[1;32mc:\\Users\\JhonatanSmithGarcía\\OneDrive - Celerik\\Desktop\\Repositorios\\Celerik\\2025\\Work\\Julio\\PT Tuya\\venv\\lib\\site-packages\\pandas\\core\\internals\\managers.py:363\u001b[0m, in \u001b[0;36mBaseBlockManager.apply\u001b[1;34m(self, f, align_keys, **kwargs)\u001b[0m\n\u001b[0;32m    361\u001b[0m         applied \u001b[38;5;241m=\u001b[39m b\u001b[38;5;241m.\u001b[39mapply(f, \u001b[38;5;241m*\u001b[39m\u001b[38;5;241m*\u001b[39mkwargs)\n\u001b[0;32m    362\u001b[0m     \u001b[38;5;28;01melse\u001b[39;00m:\n\u001b[1;32m--> 363\u001b[0m         applied \u001b[38;5;241m=\u001b[39m \u001b[38;5;28mgetattr\u001b[39m(b, f)(\u001b[38;5;241m*\u001b[39m\u001b[38;5;241m*\u001b[39mkwargs)\n\u001b[0;32m    364\u001b[0m     result_blocks \u001b[38;5;241m=\u001b[39m extend_blocks(applied, result_blocks)\n\u001b[0;32m    366\u001b[0m out \u001b[38;5;241m=\u001b[39m \u001b[38;5;28mtype\u001b[39m(\u001b[38;5;28mself\u001b[39m)\u001b[38;5;241m.\u001b[39mfrom_blocks(result_blocks, \u001b[38;5;28mself\u001b[39m\u001b[38;5;241m.\u001b[39maxes)\n",
      "File \u001b[1;32mc:\\Users\\JhonatanSmithGarcía\\OneDrive - Celerik\\Desktop\\Repositorios\\Celerik\\2025\\Work\\Julio\\PT Tuya\\venv\\lib\\site-packages\\pandas\\core\\internals\\blocks.py:784\u001b[0m, in \u001b[0;36mBlock.astype\u001b[1;34m(self, dtype, copy, errors, using_cow, squeeze)\u001b[0m\n\u001b[0;32m    781\u001b[0m         \u001b[38;5;28;01mraise\u001b[39;00m \u001b[38;5;167;01mValueError\u001b[39;00m(\u001b[38;5;124m\"\u001b[39m\u001b[38;5;124mCan not squeeze with more than one column.\u001b[39m\u001b[38;5;124m\"\u001b[39m)\n\u001b[0;32m    782\u001b[0m     values \u001b[38;5;241m=\u001b[39m values[\u001b[38;5;241m0\u001b[39m, :]  \u001b[38;5;66;03m# type: ignore[call-overload]\u001b[39;00m\n\u001b[1;32m--> 784\u001b[0m new_values \u001b[38;5;241m=\u001b[39m \u001b[43mastype_array_safe\u001b[49m\u001b[43m(\u001b[49m\u001b[43mvalues\u001b[49m\u001b[43m,\u001b[49m\u001b[43m \u001b[49m\u001b[43mdtype\u001b[49m\u001b[43m,\u001b[49m\u001b[43m \u001b[49m\u001b[43mcopy\u001b[49m\u001b[38;5;241;43m=\u001b[39;49m\u001b[43mcopy\u001b[49m\u001b[43m,\u001b[49m\u001b[43m \u001b[49m\u001b[43merrors\u001b[49m\u001b[38;5;241;43m=\u001b[39;49m\u001b[43merrors\u001b[49m\u001b[43m)\u001b[49m\n\u001b[0;32m    786\u001b[0m new_values \u001b[38;5;241m=\u001b[39m maybe_coerce_values(new_values)\n\u001b[0;32m    788\u001b[0m refs \u001b[38;5;241m=\u001b[39m \u001b[38;5;28;01mNone\u001b[39;00m\n",
      "File \u001b[1;32mc:\\Users\\JhonatanSmithGarcía\\OneDrive - Celerik\\Desktop\\Repositorios\\Celerik\\2025\\Work\\Julio\\PT Tuya\\venv\\lib\\site-packages\\pandas\\core\\dtypes\\astype.py:237\u001b[0m, in \u001b[0;36mastype_array_safe\u001b[1;34m(values, dtype, copy, errors)\u001b[0m\n\u001b[0;32m    234\u001b[0m     dtype \u001b[38;5;241m=\u001b[39m dtype\u001b[38;5;241m.\u001b[39mnumpy_dtype\n\u001b[0;32m    236\u001b[0m \u001b[38;5;28;01mtry\u001b[39;00m:\n\u001b[1;32m--> 237\u001b[0m     new_values \u001b[38;5;241m=\u001b[39m \u001b[43mastype_array\u001b[49m\u001b[43m(\u001b[49m\u001b[43mvalues\u001b[49m\u001b[43m,\u001b[49m\u001b[43m \u001b[49m\u001b[43mdtype\u001b[49m\u001b[43m,\u001b[49m\u001b[43m \u001b[49m\u001b[43mcopy\u001b[49m\u001b[38;5;241;43m=\u001b[39;49m\u001b[43mcopy\u001b[49m\u001b[43m)\u001b[49m\n\u001b[0;32m    238\u001b[0m \u001b[38;5;28;01mexcept\u001b[39;00m (\u001b[38;5;167;01mValueError\u001b[39;00m, \u001b[38;5;167;01mTypeError\u001b[39;00m):\n\u001b[0;32m    239\u001b[0m     \u001b[38;5;66;03m# e.g. _astype_nansafe can fail on object-dtype of strings\u001b[39;00m\n\u001b[0;32m    240\u001b[0m     \u001b[38;5;66;03m#  trying to convert to float\u001b[39;00m\n\u001b[0;32m    241\u001b[0m     \u001b[38;5;28;01mif\u001b[39;00m errors \u001b[38;5;241m==\u001b[39m \u001b[38;5;124m\"\u001b[39m\u001b[38;5;124mignore\u001b[39m\u001b[38;5;124m\"\u001b[39m:\n",
      "File \u001b[1;32mc:\\Users\\JhonatanSmithGarcía\\OneDrive - Celerik\\Desktop\\Repositorios\\Celerik\\2025\\Work\\Julio\\PT Tuya\\venv\\lib\\site-packages\\pandas\\core\\dtypes\\astype.py:182\u001b[0m, in \u001b[0;36mastype_array\u001b[1;34m(values, dtype, copy)\u001b[0m\n\u001b[0;32m    179\u001b[0m     values \u001b[38;5;241m=\u001b[39m values\u001b[38;5;241m.\u001b[39mastype(dtype, copy\u001b[38;5;241m=\u001b[39mcopy)\n\u001b[0;32m    181\u001b[0m \u001b[38;5;28;01melse\u001b[39;00m:\n\u001b[1;32m--> 182\u001b[0m     values \u001b[38;5;241m=\u001b[39m \u001b[43m_astype_nansafe\u001b[49m\u001b[43m(\u001b[49m\u001b[43mvalues\u001b[49m\u001b[43m,\u001b[49m\u001b[43m \u001b[49m\u001b[43mdtype\u001b[49m\u001b[43m,\u001b[49m\u001b[43m \u001b[49m\u001b[43mcopy\u001b[49m\u001b[38;5;241;43m=\u001b[39;49m\u001b[43mcopy\u001b[49m\u001b[43m)\u001b[49m\n\u001b[0;32m    184\u001b[0m \u001b[38;5;66;03m# in pandas we don't store numpy str dtypes, so convert to object\u001b[39;00m\n\u001b[0;32m    185\u001b[0m \u001b[38;5;28;01mif\u001b[39;00m \u001b[38;5;28misinstance\u001b[39m(dtype, np\u001b[38;5;241m.\u001b[39mdtype) \u001b[38;5;129;01mand\u001b[39;00m \u001b[38;5;28missubclass\u001b[39m(values\u001b[38;5;241m.\u001b[39mdtype\u001b[38;5;241m.\u001b[39mtype, \u001b[38;5;28mstr\u001b[39m):\n",
      "File \u001b[1;32mc:\\Users\\JhonatanSmithGarcía\\OneDrive - Celerik\\Desktop\\Repositorios\\Celerik\\2025\\Work\\Julio\\PT Tuya\\venv\\lib\\site-packages\\pandas\\core\\dtypes\\astype.py:133\u001b[0m, in \u001b[0;36m_astype_nansafe\u001b[1;34m(arr, dtype, copy, skipna)\u001b[0m\n\u001b[0;32m    129\u001b[0m     \u001b[38;5;28;01mraise\u001b[39;00m \u001b[38;5;167;01mValueError\u001b[39;00m(msg)\n\u001b[0;32m    131\u001b[0m \u001b[38;5;28;01mif\u001b[39;00m copy \u001b[38;5;129;01mor\u001b[39;00m arr\u001b[38;5;241m.\u001b[39mdtype \u001b[38;5;241m==\u001b[39m \u001b[38;5;28mobject\u001b[39m \u001b[38;5;129;01mor\u001b[39;00m dtype \u001b[38;5;241m==\u001b[39m \u001b[38;5;28mobject\u001b[39m:\n\u001b[0;32m    132\u001b[0m     \u001b[38;5;66;03m# Explicit copy, or required since NumPy can't view from / to object.\u001b[39;00m\n\u001b[1;32m--> 133\u001b[0m     \u001b[38;5;28;01mreturn\u001b[39;00m \u001b[43marr\u001b[49m\u001b[38;5;241;43m.\u001b[39;49m\u001b[43mastype\u001b[49m\u001b[43m(\u001b[49m\u001b[43mdtype\u001b[49m\u001b[43m,\u001b[49m\u001b[43m \u001b[49m\u001b[43mcopy\u001b[49m\u001b[38;5;241;43m=\u001b[39;49m\u001b[38;5;28;43;01mTrue\u001b[39;49;00m\u001b[43m)\u001b[49m\n\u001b[0;32m    135\u001b[0m \u001b[38;5;28;01mreturn\u001b[39;00m arr\u001b[38;5;241m.\u001b[39mastype(dtype, copy\u001b[38;5;241m=\u001b[39mcopy)\n",
      "\u001b[1;31mValueError\u001b[0m: could not convert string to float: '41f30'"
     ]
    }
   ],
   "source": [
    "# Inputando correctamente valor\n",
    "detalle_tx[\"valor\"] = detalle_tx.valor.astype(float) # Cambiando tipo de dato a float"
   ]
  },
  {
   "cell_type": "markdown",
   "id": "1903e462",
   "metadata": {},
   "source": [
    "``insigths``\n",
    " 1) Hay valores nulos en clase y valor. Se procede a eliminar estos registros dado que no poseen informacion que sea capturable en el estadoa ctual de la informacion. \n",
    " 2) Existen formatos no numericos en el campo valor. Se procede a mirar aquellos valroes que no sean numericos con regrex para irar si son errores de inputacion y se pueden corregir o si simplemente se ha de eliminar aquello con mal formato\n",
    "\n",
    "\n",
    "# Data cleaning - Detalles cliente\n",
    "\n",
    "## Correcion fecha"
   ]
  },
  {
   "cell_type": "code",
   "execution_count": null,
   "id": "67839eb4",
   "metadata": {},
   "outputs": [
    {
     "name": "stdout",
     "output_type": "stream",
     "text": [
      "Registros con formato de fecha no válido:\n",
      "      Id_cliente fecha_efectiva  Id_tx\n",
      "1287         118         202012   9186\n",
      "1624         123         202001   4160\n",
      "1869         131           2021   5464\n",
      "2148         112           2020   4500\n"
     ]
    }
   ],
   "source": [
    " # Eliminando registros sin fecha efectiva\n",
    "detalle_cliente = detalle_cliente.dropna(subset=[\"fecha_efectiva\"])\n",
    "# Se sabe que el formato por defecto de fecha es YYYYMMDD, por lo que se puede transformar usando regrex\n",
    "detalle_cliente[\"fecha_efectiva\"] = detalle_cliente[\"fecha_efectiva\"].astype(float).astype(\"Int64\").astype(str)\n",
    "\n",
    "\n",
    "# Fecha como '20210303'\n",
    "pattern = r\"^\\d{8}$\"  \n",
    "\n",
    "# Mostrar registros no validos\n",
    "print(\"Registros con formato de fecha no válido:\")\n",
    "print(detalle_cliente[~detalle_cliente[\"fecha_efectiva\"].str.match(pattern, na=False)])\n",
    "\n",
    "# Correcion fecha\n",
    "detalle_cliente = detalle_cliente[detalle_cliente[\"fecha_efectiva\"].str.match(pattern, na=False)]"
   ]
  },
  {
   "cell_type": "code",
   "execution_count": null,
   "id": "f3bbd9ec",
   "metadata": {},
   "outputs": [
    {
     "name": "stdout",
     "output_type": "stream",
     "text": [
      "<class 'pandas.core.frame.DataFrame'>\n",
      "Index: 2484 entries, 0 to 2499\n",
      "Data columns (total 3 columns):\n",
      " #   Column          Non-Null Count  Dtype \n",
      "---  ------          --------------  ----- \n",
      " 0   Id_cliente      2484 non-null   int64 \n",
      " 1   fecha_efectiva  2484 non-null   object\n",
      " 2   Id_tx           2484 non-null   int64 \n",
      "dtypes: int64(2), object(1)\n",
      "memory usage: 77.6+ KB\n"
     ]
    }
   ],
   "source": [
    "detalle_cliente.info() # Todo ok"
   ]
  },
  {
   "cell_type": "markdown",
   "id": "4b2c7251",
   "metadata": {},
   "source": [
    "# Data cleaning - detalle tx\n",
    "\n",
    "## Correcion clase"
   ]
  },
  {
   "cell_type": "code",
   "execution_count": null,
   "id": "d219dff5",
   "metadata": {},
   "outputs": [
    {
     "name": "stdout",
     "output_type": "stream",
     "text": [
      "<class 'pandas.core.frame.DataFrame'>\n",
      "Index: 2471 entries, 0 to 2499\n",
      "Data columns (total 3 columns):\n",
      " #   Column  Non-Null Count  Dtype \n",
      "---  ------  --------------  ----- \n",
      " 0   Id_tx   2471 non-null   int64 \n",
      " 1   clase   2471 non-null   object\n",
      " 2   valor   2471 non-null   object\n",
      "dtypes: int64(1), object(2)\n",
      "memory usage: 77.2+ KB\n"
     ]
    }
   ],
   "source": [
    "detalle_tx = detalle_tx[detalle_tx[\"clase\"].notna() & detalle_tx[\"valor\"].notna()] # Eliminando registros con valores nulos\n",
    "detalle_tx.info()"
   ]
  },
  {
   "cell_type": "code",
   "execution_count": null,
   "id": "17ca6c74",
   "metadata": {},
   "outputs": [
    {
     "data": {
      "application/vnd.microsoft.datawrangler.viewer.v0+json": {
       "columns": [
        {
         "name": "clase",
         "rawType": "object",
         "type": "string"
        },
        {
         "name": "count",
         "rawType": "int64",
         "type": "integer"
        }
       ],
       "ref": "46394bb7-d8a7-44a2-81ce-5715181815a0",
       "rows": [
        [
         "COMPRA",
         "1911"
        ],
        [
         "AVANCE",
         "554"
        ],
        [
         "SEGURO",
         "6"
        ]
       ],
       "shape": {
        "columns": 1,
        "rows": 3
       }
      },
      "text/plain": [
       "clase\n",
       "COMPRA    1911\n",
       "AVANCE     554\n",
       "SEGURO       6\n",
       "Name: count, dtype: int64"
      ]
     },
     "execution_count": 215,
     "metadata": {},
     "output_type": "execute_result"
    }
   ],
   "source": [
    "detalle_tx.clase.value_counts() # Todo Ok con clase"
   ]
  },
  {
   "cell_type": "markdown",
   "id": "c9045e2c",
   "metadata": {},
   "source": [
    "## Correcion valor"
   ]
  },
  {
   "cell_type": "code",
   "execution_count": 249,
   "id": "0d4a67e0",
   "metadata": {},
   "outputs": [
    {
     "data": {
      "application/vnd.microsoft.datawrangler.viewer.v0+json": {
       "columns": [
        {
         "name": "index",
         "rawType": "int64",
         "type": "integer"
        },
        {
         "name": "Id_tx",
         "rawType": "int64",
         "type": "integer"
        },
        {
         "name": "clase",
         "rawType": "object",
         "type": "string"
        },
        {
         "name": "valor",
         "rawType": "object",
         "type": "unknown"
        }
       ],
       "ref": "1790ad5e-03be-4d7e-a9a9-29392148ec46",
       "rows": [
        [
         "0",
         "6869",
         "COMPRA",
         "3495240"
        ],
        [
         "1",
         "4355",
         "COMPRA",
         "475800"
        ],
        [
         "2",
         "5416",
         "COMPRA",
         "115775"
        ],
        [
         "3",
         "3249",
         "COMPRA",
         "1579898"
        ],
        [
         "4",
         "2774",
         "COMPRA",
         "84077"
        ]
       ],
       "shape": {
        "columns": 3,
        "rows": 5
       }
      },
      "text/html": [
       "<div>\n",
       "<style scoped>\n",
       "    .dataframe tbody tr th:only-of-type {\n",
       "        vertical-align: middle;\n",
       "    }\n",
       "\n",
       "    .dataframe tbody tr th {\n",
       "        vertical-align: top;\n",
       "    }\n",
       "\n",
       "    .dataframe thead th {\n",
       "        text-align: right;\n",
       "    }\n",
       "</style>\n",
       "<table border=\"1\" class=\"dataframe\">\n",
       "  <thead>\n",
       "    <tr style=\"text-align: right;\">\n",
       "      <th></th>\n",
       "      <th>Id_tx</th>\n",
       "      <th>clase</th>\n",
       "      <th>valor</th>\n",
       "    </tr>\n",
       "  </thead>\n",
       "  <tbody>\n",
       "    <tr>\n",
       "      <th>0</th>\n",
       "      <td>6869</td>\n",
       "      <td>COMPRA</td>\n",
       "      <td>3495240</td>\n",
       "    </tr>\n",
       "    <tr>\n",
       "      <th>1</th>\n",
       "      <td>4355</td>\n",
       "      <td>COMPRA</td>\n",
       "      <td>475800</td>\n",
       "    </tr>\n",
       "    <tr>\n",
       "      <th>2</th>\n",
       "      <td>5416</td>\n",
       "      <td>COMPRA</td>\n",
       "      <td>115775</td>\n",
       "    </tr>\n",
       "    <tr>\n",
       "      <th>3</th>\n",
       "      <td>3249</td>\n",
       "      <td>COMPRA</td>\n",
       "      <td>1579898</td>\n",
       "    </tr>\n",
       "    <tr>\n",
       "      <th>4</th>\n",
       "      <td>2774</td>\n",
       "      <td>COMPRA</td>\n",
       "      <td>84077</td>\n",
       "    </tr>\n",
       "  </tbody>\n",
       "</table>\n",
       "</div>"
      ],
      "text/plain": [
       "   Id_tx   clase    valor\n",
       "0   6869  COMPRA  3495240\n",
       "1   4355  COMPRA   475800\n",
       "2   5416  COMPRA   115775\n",
       "3   3249  COMPRA  1579898\n",
       "4   2774  COMPRA    84077"
      ]
     },
     "execution_count": 249,
     "metadata": {},
     "output_type": "execute_result"
    }
   ],
   "source": [
    "detalle_tx.head() # En genreral, data es int"
   ]
  },
  {
   "cell_type": "code",
   "execution_count": null,
   "id": "4182d425",
   "metadata": {},
   "outputs": [
    {
     "data": {
      "application/vnd.microsoft.datawrangler.viewer.v0+json": {
       "columns": [
        {
         "name": "index",
         "rawType": "int64",
         "type": "integer"
        },
        {
         "name": "Id_tx",
         "rawType": "int64",
         "type": "integer"
        },
        {
         "name": "clase",
         "rawType": "object",
         "type": "string"
        },
        {
         "name": "valor",
         "rawType": "object",
         "type": "unknown"
        }
       ],
       "ref": "e46194ec-52ca-4830-ac62-62d5e75a4611",
       "rows": [
        [
         "281",
         "6890",
         "COMPRA",
         null
        ],
        [
         "635",
         "4855",
         "COMPRA",
         null
        ],
        [
         "797",
         "9042",
         "COMPRA",
         "41f30"
        ],
        [
         "943",
         "2847",
         "COMPRA",
         null
        ],
        [
         "1089",
         "2773",
         "COMPRA",
         null
        ],
        [
         "1093",
         "3334",
         "COMPRA",
         null
        ],
        [
         "1179",
         "5994",
         "COMPRA",
         null
        ],
        [
         "1233",
         "7801",
         "COMPRA",
         null
        ],
        [
         "1253",
         "8438",
         "COMPRA",
         null
        ],
        [
         "1386",
         "4065",
         "COMPRA",
         null
        ],
        [
         "1455",
         "6358",
         "AVANCE",
         null
        ],
        [
         "1602",
         "9664",
         "COMPRA",
         null
        ],
        [
         "1647",
         "8470",
         "AVANCE",
         null
        ],
        [
         "1774",
         "6879",
         "COMPRA",
         null
        ],
        [
         "1778",
         "5576",
         "AVANCE",
         null
        ],
        [
         "1866",
         "8331",
         "COMPRA",
         null
        ],
        [
         "1977",
         "5563",
         "COMPRA",
         null
        ],
        [
         "1996",
         "5646",
         "COMPRA",
         null
        ],
        [
         "2020",
         "6389",
         "COMPRA",
         null
        ],
        [
         "2113",
         "3171",
         "COMPRA",
         null
        ],
        [
         "2134",
         "5806",
         "COMPRA",
         null
        ],
        [
         "2199",
         "6741",
         "COMPRA",
         null
        ],
        [
         "2214",
         "4151",
         "COMPRA",
         "3_8383"
        ],
        [
         "2227",
         "7922",
         "AVANCE",
         "4000'00"
        ],
        [
         "2271",
         "6556",
         "AVANCE",
         null
        ],
        [
         "2455",
         "4949",
         "COMPRA",
         null
        ],
        [
         "2488",
         "5745",
         "COMPRA",
         null
        ]
       ],
       "shape": {
        "columns": 3,
        "rows": 27
       }
      },
      "text/html": [
       "<div>\n",
       "<style scoped>\n",
       "    .dataframe tbody tr th:only-of-type {\n",
       "        vertical-align: middle;\n",
       "    }\n",
       "\n",
       "    .dataframe tbody tr th {\n",
       "        vertical-align: top;\n",
       "    }\n",
       "\n",
       "    .dataframe thead th {\n",
       "        text-align: right;\n",
       "    }\n",
       "</style>\n",
       "<table border=\"1\" class=\"dataframe\">\n",
       "  <thead>\n",
       "    <tr style=\"text-align: right;\">\n",
       "      <th></th>\n",
       "      <th>Id_tx</th>\n",
       "      <th>clase</th>\n",
       "      <th>valor</th>\n",
       "    </tr>\n",
       "  </thead>\n",
       "  <tbody>\n",
       "    <tr>\n",
       "      <th>281</th>\n",
       "      <td>6890</td>\n",
       "      <td>COMPRA</td>\n",
       "      <td>NaN</td>\n",
       "    </tr>\n",
       "    <tr>\n",
       "      <th>635</th>\n",
       "      <td>4855</td>\n",
       "      <td>COMPRA</td>\n",
       "      <td>NaN</td>\n",
       "    </tr>\n",
       "    <tr>\n",
       "      <th>797</th>\n",
       "      <td>9042</td>\n",
       "      <td>COMPRA</td>\n",
       "      <td>41f30</td>\n",
       "    </tr>\n",
       "    <tr>\n",
       "      <th>943</th>\n",
       "      <td>2847</td>\n",
       "      <td>COMPRA</td>\n",
       "      <td>NaN</td>\n",
       "    </tr>\n",
       "    <tr>\n",
       "      <th>1089</th>\n",
       "      <td>2773</td>\n",
       "      <td>COMPRA</td>\n",
       "      <td>NaN</td>\n",
       "    </tr>\n",
       "    <tr>\n",
       "      <th>1093</th>\n",
       "      <td>3334</td>\n",
       "      <td>COMPRA</td>\n",
       "      <td>NaN</td>\n",
       "    </tr>\n",
       "    <tr>\n",
       "      <th>1179</th>\n",
       "      <td>5994</td>\n",
       "      <td>COMPRA</td>\n",
       "      <td>NaN</td>\n",
       "    </tr>\n",
       "    <tr>\n",
       "      <th>1233</th>\n",
       "      <td>7801</td>\n",
       "      <td>COMPRA</td>\n",
       "      <td>NaN</td>\n",
       "    </tr>\n",
       "    <tr>\n",
       "      <th>1253</th>\n",
       "      <td>8438</td>\n",
       "      <td>COMPRA</td>\n",
       "      <td>NaN</td>\n",
       "    </tr>\n",
       "    <tr>\n",
       "      <th>1386</th>\n",
       "      <td>4065</td>\n",
       "      <td>COMPRA</td>\n",
       "      <td>NaN</td>\n",
       "    </tr>\n",
       "    <tr>\n",
       "      <th>1455</th>\n",
       "      <td>6358</td>\n",
       "      <td>AVANCE</td>\n",
       "      <td>NaN</td>\n",
       "    </tr>\n",
       "    <tr>\n",
       "      <th>1602</th>\n",
       "      <td>9664</td>\n",
       "      <td>COMPRA</td>\n",
       "      <td>NaN</td>\n",
       "    </tr>\n",
       "    <tr>\n",
       "      <th>1647</th>\n",
       "      <td>8470</td>\n",
       "      <td>AVANCE</td>\n",
       "      <td>NaN</td>\n",
       "    </tr>\n",
       "    <tr>\n",
       "      <th>1774</th>\n",
       "      <td>6879</td>\n",
       "      <td>COMPRA</td>\n",
       "      <td>NaN</td>\n",
       "    </tr>\n",
       "    <tr>\n",
       "      <th>1778</th>\n",
       "      <td>5576</td>\n",
       "      <td>AVANCE</td>\n",
       "      <td>NaN</td>\n",
       "    </tr>\n",
       "    <tr>\n",
       "      <th>1866</th>\n",
       "      <td>8331</td>\n",
       "      <td>COMPRA</td>\n",
       "      <td>NaN</td>\n",
       "    </tr>\n",
       "    <tr>\n",
       "      <th>1977</th>\n",
       "      <td>5563</td>\n",
       "      <td>COMPRA</td>\n",
       "      <td>NaN</td>\n",
       "    </tr>\n",
       "    <tr>\n",
       "      <th>1996</th>\n",
       "      <td>5646</td>\n",
       "      <td>COMPRA</td>\n",
       "      <td>NaN</td>\n",
       "    </tr>\n",
       "    <tr>\n",
       "      <th>2020</th>\n",
       "      <td>6389</td>\n",
       "      <td>COMPRA</td>\n",
       "      <td>NaN</td>\n",
       "    </tr>\n",
       "    <tr>\n",
       "      <th>2113</th>\n",
       "      <td>3171</td>\n",
       "      <td>COMPRA</td>\n",
       "      <td>NaN</td>\n",
       "    </tr>\n",
       "    <tr>\n",
       "      <th>2134</th>\n",
       "      <td>5806</td>\n",
       "      <td>COMPRA</td>\n",
       "      <td>NaN</td>\n",
       "    </tr>\n",
       "    <tr>\n",
       "      <th>2199</th>\n",
       "      <td>6741</td>\n",
       "      <td>COMPRA</td>\n",
       "      <td>NaN</td>\n",
       "    </tr>\n",
       "    <tr>\n",
       "      <th>2214</th>\n",
       "      <td>4151</td>\n",
       "      <td>COMPRA</td>\n",
       "      <td>3_8383</td>\n",
       "    </tr>\n",
       "    <tr>\n",
       "      <th>2227</th>\n",
       "      <td>7922</td>\n",
       "      <td>AVANCE</td>\n",
       "      <td>4000'00</td>\n",
       "    </tr>\n",
       "    <tr>\n",
       "      <th>2271</th>\n",
       "      <td>6556</td>\n",
       "      <td>AVANCE</td>\n",
       "      <td>NaN</td>\n",
       "    </tr>\n",
       "    <tr>\n",
       "      <th>2455</th>\n",
       "      <td>4949</td>\n",
       "      <td>COMPRA</td>\n",
       "      <td>NaN</td>\n",
       "    </tr>\n",
       "    <tr>\n",
       "      <th>2488</th>\n",
       "      <td>5745</td>\n",
       "      <td>COMPRA</td>\n",
       "      <td>NaN</td>\n",
       "    </tr>\n",
       "  </tbody>\n",
       "</table>\n",
       "</div>"
      ],
      "text/plain": [
       "      Id_tx   clase    valor\n",
       "281    6890  COMPRA      NaN\n",
       "635    4855  COMPRA      NaN\n",
       "797    9042  COMPRA    41f30\n",
       "943    2847  COMPRA      NaN\n",
       "1089   2773  COMPRA      NaN\n",
       "1093   3334  COMPRA      NaN\n",
       "1179   5994  COMPRA      NaN\n",
       "1233   7801  COMPRA      NaN\n",
       "1253   8438  COMPRA      NaN\n",
       "1386   4065  COMPRA      NaN\n",
       "1455   6358  AVANCE      NaN\n",
       "1602   9664  COMPRA      NaN\n",
       "1647   8470  AVANCE      NaN\n",
       "1774   6879  COMPRA      NaN\n",
       "1778   5576  AVANCE      NaN\n",
       "1866   8331  COMPRA      NaN\n",
       "1977   5563  COMPRA      NaN\n",
       "1996   5646  COMPRA      NaN\n",
       "2020   6389  COMPRA      NaN\n",
       "2113   3171  COMPRA      NaN\n",
       "2134   5806  COMPRA      NaN\n",
       "2199   6741  COMPRA      NaN\n",
       "2214   4151  COMPRA   3_8383\n",
       "2227   7922  AVANCE  4000'00\n",
       "2271   6556  AVANCE      NaN\n",
       "2455   4949  COMPRA      NaN\n",
       "2488   5745  COMPRA      NaN"
      ]
     },
     "execution_count": 244,
     "metadata": {},
     "output_type": "execute_result"
    }
   ],
   "source": [
    "import re\n",
    "import numpy as np\n",
    "\n",
    "pattern = r'\\d+(\\.\\d+)?' # Expresión regular para números enteros o decimales\n",
    "# Filtrar filas con valores mal formateados\n",
    "detalle_tx[~detalle_tx[\"valor\"].astype(str).str.fullmatch(pattern, na=True)]\n"
   ]
  },
  {
   "cell_type": "code",
   "execution_count": 251,
   "id": "b3cdaa8e",
   "metadata": {},
   "outputs": [
    {
     "data": {
      "text/plain": [
       "np.int64(26)"
      ]
     },
     "execution_count": 251,
     "metadata": {},
     "output_type": "execute_result"
    }
   ],
   "source": [
    "#detalle_tx[\"valor\"] = detalle_tx.valor.astype(float) # hay un error con los valores de esta colubna\n",
    "# Se elimnaan na y valores mal imputads\n",
    "def es_float(value):\n",
    "    try:\n",
    "        float(value)\n",
    "        return True\n",
    "    except ValueError:\n",
    "        return False\n",
    "    \n",
    "# funcion lambda para convertir a numerico o NaN\n",
    "detalle_tx[\"valor\"] = detalle_tx[\"valor\"].apply(lambda x: float(x) if es_float(x) else np.nan)\n",
    "detalle_tx['valor'].isna().sum() # Se encojntraron 26 datos mal inputados\n"
   ]
  },
  {
   "cell_type": "code",
   "execution_count": 254,
   "id": "4e71a19c",
   "metadata": {},
   "outputs": [],
   "source": [
    "detalle_tx.dropna(subset=[\"valor\"], inplace=True) # Eliminando registros con valores nulos"
   ]
  },
  {
   "cell_type": "markdown",
   "id": "dbdf3521",
   "metadata": {},
   "source": [
    "# Uniendo DF\n",
    "\n",
    "Claramente esta iunformacion fue diseñada para unir los dataframes. Vamos a crear la Master Table una vez los datos se han filtrado, para realizar analisis mas completos\n"
   ]
  },
  {
   "cell_type": "code",
   "execution_count": 260,
   "id": "c821d4f7",
   "metadata": {},
   "outputs": [
    {
     "data": {
      "application/vnd.microsoft.datawrangler.viewer.v0+json": {
       "columns": [
        {
         "name": "index",
         "rawType": "int64",
         "type": "integer"
        },
        {
         "name": "Id_cliente",
         "rawType": "int64",
         "type": "integer"
        },
        {
         "name": "fecha_efectiva",
         "rawType": "datetime64[ns]",
         "type": "datetime"
        },
        {
         "name": "Id_tx",
         "rawType": "int64",
         "type": "integer"
        }
       ],
       "ref": "1191b6fa-4a6c-4307-ab72-49558fb9a920",
       "rows": [
        [
         "0",
         "136",
         "2021-03-03 00:00:00",
         "6869"
        ],
        [
         "1",
         "116",
         "2020-11-29 00:00:00",
         "4355"
        ],
        [
         "2",
         "119",
         "2020-09-29 00:00:00",
         "5416"
        ],
        [
         "3",
         "121",
         "2021-02-22 00:00:00",
         "3249"
        ],
        [
         "4",
         "152",
         "2020-09-30 00:00:00",
         "2774"
        ]
       ],
       "shape": {
        "columns": 3,
        "rows": 5
       }
      },
      "text/html": [
       "<div>\n",
       "<style scoped>\n",
       "    .dataframe tbody tr th:only-of-type {\n",
       "        vertical-align: middle;\n",
       "    }\n",
       "\n",
       "    .dataframe tbody tr th {\n",
       "        vertical-align: top;\n",
       "    }\n",
       "\n",
       "    .dataframe thead th {\n",
       "        text-align: right;\n",
       "    }\n",
       "</style>\n",
       "<table border=\"1\" class=\"dataframe\">\n",
       "  <thead>\n",
       "    <tr style=\"text-align: right;\">\n",
       "      <th></th>\n",
       "      <th>Id_cliente</th>\n",
       "      <th>fecha_efectiva</th>\n",
       "      <th>Id_tx</th>\n",
       "    </tr>\n",
       "  </thead>\n",
       "  <tbody>\n",
       "    <tr>\n",
       "      <th>0</th>\n",
       "      <td>136</td>\n",
       "      <td>2021-03-03</td>\n",
       "      <td>6869</td>\n",
       "    </tr>\n",
       "    <tr>\n",
       "      <th>1</th>\n",
       "      <td>116</td>\n",
       "      <td>2020-11-29</td>\n",
       "      <td>4355</td>\n",
       "    </tr>\n",
       "    <tr>\n",
       "      <th>2</th>\n",
       "      <td>119</td>\n",
       "      <td>2020-09-29</td>\n",
       "      <td>5416</td>\n",
       "    </tr>\n",
       "    <tr>\n",
       "      <th>3</th>\n",
       "      <td>121</td>\n",
       "      <td>2021-02-22</td>\n",
       "      <td>3249</td>\n",
       "    </tr>\n",
       "    <tr>\n",
       "      <th>4</th>\n",
       "      <td>152</td>\n",
       "      <td>2020-09-30</td>\n",
       "      <td>2774</td>\n",
       "    </tr>\n",
       "  </tbody>\n",
       "</table>\n",
       "</div>"
      ],
      "text/plain": [
       "   Id_cliente fecha_efectiva  Id_tx\n",
       "0         136     2021-03-03   6869\n",
       "1         116     2020-11-29   4355\n",
       "2         119     2020-09-29   5416\n",
       "3         121     2021-02-22   3249\n",
       "4         152     2020-09-30   2774"
      ]
     },
     "execution_count": 260,
     "metadata": {},
     "output_type": "execute_result"
    }
   ],
   "source": [
    "\n",
    "detalle_cliente[\"fecha_efectiva\"] = pd.to_datetime(detalle_cliente[\"fecha_efectiva\"], format=\"%Y%m%d\", errors=\"coerce\")\n",
    "detalle_cliente.head()"
   ]
  },
  {
   "cell_type": "code",
   "execution_count": 257,
   "id": "02d91bf8",
   "metadata": {},
   "outputs": [
    {
     "data": {
      "application/vnd.microsoft.datawrangler.viewer.v0+json": {
       "columns": [
        {
         "name": "index",
         "rawType": "int64",
         "type": "integer"
        },
        {
         "name": "Id_cliente",
         "rawType": "int64",
         "type": "integer"
        },
        {
         "name": "fecha_efectiva",
         "rawType": "float64",
         "type": "float"
        },
        {
         "name": "Id_tx",
         "rawType": "int64",
         "type": "integer"
        },
        {
         "name": "clase",
         "rawType": "object",
         "type": "string"
        },
        {
         "name": "valor",
         "rawType": "float64",
         "type": "float"
        }
       ],
       "ref": "0521634f-d11a-40f1-a813-797a007ebd8c",
       "rows": [
        [
         "0",
         "136",
         "20210303.0",
         "6869",
         "COMPRA",
         "3495240.0"
        ],
        [
         "1",
         "116",
         "20201129.0",
         "4355",
         "COMPRA",
         "475800.0"
        ],
        [
         "2",
         "116",
         "20201129.0",
         "4355",
         "COMPRA",
         "350503.62"
        ],
        [
         "3",
         "119",
         "20200929.0",
         "5416",
         "COMPRA",
         "115775.0"
        ],
        [
         "4",
         "121",
         "20210222.0",
         "3249",
         "COMPRA",
         "1579898.0"
        ]
       ],
       "shape": {
        "columns": 5,
        "rows": 5
       }
      },
      "text/html": [
       "<div>\n",
       "<style scoped>\n",
       "    .dataframe tbody tr th:only-of-type {\n",
       "        vertical-align: middle;\n",
       "    }\n",
       "\n",
       "    .dataframe tbody tr th {\n",
       "        vertical-align: top;\n",
       "    }\n",
       "\n",
       "    .dataframe thead th {\n",
       "        text-align: right;\n",
       "    }\n",
       "</style>\n",
       "<table border=\"1\" class=\"dataframe\">\n",
       "  <thead>\n",
       "    <tr style=\"text-align: right;\">\n",
       "      <th></th>\n",
       "      <th>Id_cliente</th>\n",
       "      <th>fecha_efectiva</th>\n",
       "      <th>Id_tx</th>\n",
       "      <th>clase</th>\n",
       "      <th>valor</th>\n",
       "    </tr>\n",
       "  </thead>\n",
       "  <tbody>\n",
       "    <tr>\n",
       "      <th>0</th>\n",
       "      <td>136</td>\n",
       "      <td>20210303.0</td>\n",
       "      <td>6869</td>\n",
       "      <td>COMPRA</td>\n",
       "      <td>3495240.00</td>\n",
       "    </tr>\n",
       "    <tr>\n",
       "      <th>1</th>\n",
       "      <td>116</td>\n",
       "      <td>20201129.0</td>\n",
       "      <td>4355</td>\n",
       "      <td>COMPRA</td>\n",
       "      <td>475800.00</td>\n",
       "    </tr>\n",
       "    <tr>\n",
       "      <th>2</th>\n",
       "      <td>116</td>\n",
       "      <td>20201129.0</td>\n",
       "      <td>4355</td>\n",
       "      <td>COMPRA</td>\n",
       "      <td>350503.62</td>\n",
       "    </tr>\n",
       "    <tr>\n",
       "      <th>3</th>\n",
       "      <td>119</td>\n",
       "      <td>20200929.0</td>\n",
       "      <td>5416</td>\n",
       "      <td>COMPRA</td>\n",
       "      <td>115775.00</td>\n",
       "    </tr>\n",
       "    <tr>\n",
       "      <th>4</th>\n",
       "      <td>121</td>\n",
       "      <td>20210222.0</td>\n",
       "      <td>3249</td>\n",
       "      <td>COMPRA</td>\n",
       "      <td>1579898.00</td>\n",
       "    </tr>\n",
       "  </tbody>\n",
       "</table>\n",
       "</div>"
      ],
      "text/plain": [
       "   Id_cliente  fecha_efectiva  Id_tx   clase       valor\n",
       "0         136      20210303.0   6869  COMPRA  3495240.00\n",
       "1         116      20201129.0   4355  COMPRA   475800.00\n",
       "2         116      20201129.0   4355  COMPRA   350503.62\n",
       "3         119      20200929.0   5416  COMPRA   115775.00\n",
       "4         121      20210222.0   3249  COMPRA  1579898.00"
      ]
     },
     "execution_count": 257,
     "metadata": {},
     "output_type": "execute_result"
    }
   ],
   "source": [
    "df = detalle_cliente.merge(detalle_tx, on = \"Id_tx\", how=\"left\")\n",
    "df.head()"
   ]
  },
  {
   "cell_type": "code",
   "execution_count": 258,
   "id": "625fdb80",
   "metadata": {},
   "outputs": [
    {
     "name": "stdout",
     "output_type": "stream",
     "text": [
      "<class 'pandas.core.frame.DataFrame'>\n",
      "RangeIndex: 3321 entries, 0 to 3320\n",
      "Data columns (total 5 columns):\n",
      " #   Column          Non-Null Count  Dtype  \n",
      "---  ------          --------------  -----  \n",
      " 0   Id_cliente      3321 non-null   int64  \n",
      " 1   fecha_efectiva  3304 non-null   float64\n",
      " 2   Id_tx           3321 non-null   int64  \n",
      " 3   clase           3297 non-null   object \n",
      " 4   valor           3302 non-null   float64\n",
      "dtypes: float64(2), int64(2), object(1)\n",
      "memory usage: 129.9+ KB\n"
     ]
    }
   ],
   "source": [
    "df.info()"
   ]
  }
 ],
 "metadata": {
  "kernelspec": {
   "display_name": "venv",
   "language": "python",
   "name": "python3"
  },
  "language_info": {
   "codemirror_mode": {
    "name": "ipython",
    "version": 3
   },
   "file_extension": ".py",
   "mimetype": "text/x-python",
   "name": "python",
   "nbconvert_exporter": "python",
   "pygments_lexer": "ipython3",
   "version": "3.10.11"
  }
 },
 "nbformat": 4,
 "nbformat_minor": 5
}
