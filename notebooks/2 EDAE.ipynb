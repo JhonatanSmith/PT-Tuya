{
 "cells": [
  {
   "cell_type": "code",
   "execution_count": 1,
   "id": "c52ac001",
   "metadata": {},
   "outputs": [],
   "source": [
    "import pandas as pd\n",
    "import numpy as np\n",
    "import matplotlib.pyplot as plt\n",
    "import seaborn as sns\n"
   ]
  },
  {
   "cell_type": "code",
   "execution_count": 2,
   "id": "ca873420",
   "metadata": {},
   "outputs": [
    {
     "data": {
      "application/vnd.microsoft.datawrangler.viewer.v0+json": {
       "columns": [
        {
         "name": "index",
         "rawType": "int64",
         "type": "integer"
        },
        {
         "name": "Id_cliente",
         "rawType": "int64",
         "type": "integer"
        },
        {
         "name": "fecha_efectiva",
         "rawType": "object",
         "type": "string"
        },
        {
         "name": "Id_tx",
         "rawType": "int64",
         "type": "integer"
        },
        {
         "name": "clase",
         "rawType": "object",
         "type": "string"
        },
        {
         "name": "valor",
         "rawType": "float64",
         "type": "float"
        }
       ],
       "ref": "1d8b1fe7-8f4e-43b6-ab9d-bd45b84e4e92",
       "rows": [
        [
         "0",
         "136",
         "2021-03-03",
         "6869",
         "COMPRA",
         "3495240.0"
        ],
        [
         "1",
         "116",
         "2020-11-29",
         "4355",
         "COMPRA",
         "475800.0"
        ],
        [
         "2",
         "116",
         "2020-11-29",
         "4355",
         "COMPRA",
         "350503.62"
        ],
        [
         "3",
         "119",
         "2020-09-29",
         "5416",
         "COMPRA",
         "115775.0"
        ],
        [
         "4",
         "121",
         "2021-02-22",
         "3249",
         "COMPRA",
         "1579898.0"
        ]
       ],
       "shape": {
        "columns": 5,
        "rows": 5
       }
      },
      "text/html": [
       "<div>\n",
       "<style scoped>\n",
       "    .dataframe tbody tr th:only-of-type {\n",
       "        vertical-align: middle;\n",
       "    }\n",
       "\n",
       "    .dataframe tbody tr th {\n",
       "        vertical-align: top;\n",
       "    }\n",
       "\n",
       "    .dataframe thead th {\n",
       "        text-align: right;\n",
       "    }\n",
       "</style>\n",
       "<table border=\"1\" class=\"dataframe\">\n",
       "  <thead>\n",
       "    <tr style=\"text-align: right;\">\n",
       "      <th></th>\n",
       "      <th>Id_cliente</th>\n",
       "      <th>fecha_efectiva</th>\n",
       "      <th>Id_tx</th>\n",
       "      <th>clase</th>\n",
       "      <th>valor</th>\n",
       "    </tr>\n",
       "  </thead>\n",
       "  <tbody>\n",
       "    <tr>\n",
       "      <th>0</th>\n",
       "      <td>136</td>\n",
       "      <td>2021-03-03</td>\n",
       "      <td>6869</td>\n",
       "      <td>COMPRA</td>\n",
       "      <td>3495240.00</td>\n",
       "    </tr>\n",
       "    <tr>\n",
       "      <th>1</th>\n",
       "      <td>116</td>\n",
       "      <td>2020-11-29</td>\n",
       "      <td>4355</td>\n",
       "      <td>COMPRA</td>\n",
       "      <td>475800.00</td>\n",
       "    </tr>\n",
       "    <tr>\n",
       "      <th>2</th>\n",
       "      <td>116</td>\n",
       "      <td>2020-11-29</td>\n",
       "      <td>4355</td>\n",
       "      <td>COMPRA</td>\n",
       "      <td>350503.62</td>\n",
       "    </tr>\n",
       "    <tr>\n",
       "      <th>3</th>\n",
       "      <td>119</td>\n",
       "      <td>2020-09-29</td>\n",
       "      <td>5416</td>\n",
       "      <td>COMPRA</td>\n",
       "      <td>115775.00</td>\n",
       "    </tr>\n",
       "    <tr>\n",
       "      <th>4</th>\n",
       "      <td>121</td>\n",
       "      <td>2021-02-22</td>\n",
       "      <td>3249</td>\n",
       "      <td>COMPRA</td>\n",
       "      <td>1579898.00</td>\n",
       "    </tr>\n",
       "  </tbody>\n",
       "</table>\n",
       "</div>"
      ],
      "text/plain": [
       "   Id_cliente fecha_efectiva  Id_tx   clase       valor\n",
       "0         136     2021-03-03   6869  COMPRA  3495240.00\n",
       "1         116     2020-11-29   4355  COMPRA   475800.00\n",
       "2         116     2020-11-29   4355  COMPRA   350503.62\n",
       "3         119     2020-09-29   5416  COMPRA   115775.00\n",
       "4         121     2021-02-22   3249  COMPRA  1579898.00"
      ]
     },
     "execution_count": 2,
     "metadata": {},
     "output_type": "execute_result"
    }
   ],
   "source": [
    "df = pd.read_csv(\"../data/silver/master_table.csv\")\n",
    "df.head()"
   ]
  }
 ],
 "metadata": {
  "kernelspec": {
   "display_name": "venv",
   "language": "python",
   "name": "python3"
  },
  "language_info": {
   "codemirror_mode": {
    "name": "ipython",
    "version": 3
   },
   "file_extension": ".py",
   "mimetype": "text/x-python",
   "name": "python",
   "nbconvert_exporter": "python",
   "pygments_lexer": "ipython3",
   "version": "3.10.11"
  }
 },
 "nbformat": 4,
 "nbformat_minor": 5
}
